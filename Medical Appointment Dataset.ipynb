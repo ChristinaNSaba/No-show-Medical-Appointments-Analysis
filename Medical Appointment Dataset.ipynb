{
 "cells": [
  {
   "cell_type": "markdown",
   "metadata": {
    "id": "GNIwe5N7s0e_"
   },
   "source": [
    "# Real-world Data Wrangling"
   ]
  },
  {
   "cell_type": "markdown",
   "metadata": {
    "id": "_BG63Tpg8ep_"
   },
   "source": [
    "In this project, you will apply the skills you acquired in the course to gather and wrangle real-world data with two datasets of your choice.\n",
    "\n",
    "You will retrieve and extract the data, assess the data programmatically and visually, accross elements of data quality and structure, and implement a cleaning strategy for the data. You will then store the updated data into your selected database/data store, combine the data, and answer a research question with the datasets.\n",
    "\n",
    "Throughout the process, you are expected to:\n",
    "\n",
    "1. Explain your decisions towards methods used for gathering, assessing, cleaning, storing, and answering the research question\n",
    "2. Write code comments so your code is more readable\n",
    "\n",
    "Before you start, install the some of the required packages. "
   ]
  },
  {
   "cell_type": "code",
   "execution_count": null,
   "metadata": {},
   "outputs": [],
   "source": [
    "!python -m pip install kaggle==1.6.12"
   ]
  },
  {
   "cell_type": "code",
   "execution_count": null,
   "metadata": {},
   "outputs": [],
   "source": [
    "!pip install --target=/workspace ucimlrepo"
   ]
  },
  {
   "cell_type": "code",
   "execution_count": 1,
   "metadata": {},
   "outputs": [],
   "source": [
    "import pandas as pd\n",
    "import numpy as np\n",
    "import requests\n",
    "import os\n",
    "import matplotlib.pyplot as plt"
   ]
  },
  {
   "cell_type": "code",
   "execution_count": null,
   "metadata": {},
   "outputs": [],
   "source": [
    "!pip uninstall numpy -y\n",
    "#!pip install numpy==1.21.6"
   ]
  },
  {
   "cell_type": "code",
   "execution_count": null,
   "metadata": {},
   "outputs": [],
   "source": [
    "!pip uninstall numpy seaborn scipy -y"
   ]
  },
  {
   "cell_type": "code",
   "execution_count": null,
   "metadata": {},
   "outputs": [],
   "source": [
    "!pip install --force-reinstall matplotlib"
   ]
  },
  {
   "cell_type": "code",
   "execution_count": null,
   "metadata": {},
   "outputs": [],
   "source": [
    "!pip install matplotlib"
   ]
  },
  {
   "cell_type": "markdown",
   "metadata": {},
   "source": [
    "**Note:** Restart the kernel to use updated package(s)."
   ]
  },
  {
   "cell_type": "markdown",
   "metadata": {
    "id": "lDYDkH-Zs7Nn"
   },
   "source": [
    "## 1. Gather data\n",
    "\n",
    "In this section, you will extract data using two different data gathering methods and combine the data. Use at least two different types of data-gathering methods."
   ]
  },
  {
   "cell_type": "markdown",
   "metadata": {
    "id": "LbN7z7rcuqpO"
   },
   "source": [
    "### **1.1.** Problem Statement"
   ]
  },
  {
   "cell_type": "markdown",
   "metadata": {
    "id": "gi6swhjSYqu2"
   },
   "source": [
    "Finding the right datasets can be time-consuming. Here we provide you with a list of websites to start with. But we encourage you to explore more websites and find the data that interests you.\n",
    "\n",
    "* Google Dataset Search https://datasetsearch.research.google.com/\n",
    "* The U.S. Government’s open data https://data.gov/\n",
    "* UCI Machine Learning Repository https://archive.ics.uci.edu/ml/index.php\n"
   ]
  },
  {
   "cell_type": "markdown",
   "metadata": {
    "id": "8AQfBAdUypMm"
   },
   "source": [
    "### **1.2.** Gather at least two datasets using two different data gathering methods\n",
    "\n",
    "List of data gathering methods:\n",
    "\n",
    "- Download data manually\n",
    "- Programmatically downloading files\n",
    "- Gather data by accessing APIs\n",
    "- Gather and extract data from HTML files using BeautifulSoup\n",
    "- Extract data from a SQL database\n",
    "\n",
    "I aim to investigate how weather conditions affect bike riding behavior in New York City in 2016 from the beginning of January until the end of June. I will use two datasets: one containing bike ride data taken from Citibike website https://citibikenyc.com/system-data and the other containing weather data taken from github which was originally found in kaggle https://www.kaggle.com/datasets/eaturner/nycweather/data\n",
    "\n",
    "Bike Ride Data (Citibike) covers the period from January to June 2016, aligning with your investigation period of interest. \n",
    "Weather data covers January to June 2016, matching the timeframe of your bike ride data. It provides a structured dataset suitable for correlating weather variables with bike riding behavior.\n",
    "\n",
    "By combining these datasets, we can analyze how variations in weather conditions such as temperature, precipitation, and snow influence bike ride patterns in New York City during the specified months period. This analysis can uncover insights into how weather impacts bike usage, helping to inform transportation policies and bike-sharing system management.\n",
    "\n",
    "For these chosen datasets and after many researches and in order to narrow the study to these selected months each dataset is bounded to this months durations and since they are large, I randomly narrowed down the number of data to avoid any kernel crashes. "
   ]
  },
  {
   "cell_type": "markdown",
   "metadata": {
    "id": "7e6gS0wL1KTu"
   },
   "source": [
    "#### **Dataset 1**\n",
    "\n",
    "The weather dataset from kaggle downloaded from github URL which contains a subset of information, pertaining to the weather patterns during Januaray 2016 - June 2016 in NYC\n",
    "\n",
    "Type: CSV file \n",
    "\n",
    "Method: The dataset was programatically loaded from github using the saved URL of the raw data using requests and os libraries. \n",
    "\n",
    "Dataset variables:\n",
    "1- Date: the date of the weather YYYYMMDD.\n",
    "2- Latitude: the latitude coordinate of the weather station where the data was recorded.\n",
    "3- Longitude: the longitude coordinate of the weather station where the data was recorded.\n",
    "4- Snow: amount of snowfall recorded on that date.\n",
    "5- PRCP: amount of precipitation recorded on the given date.\n",
    "6- SNWD: depth of snow on the ground.\n",
    "7- TAVG: average temperature for the day.\n",
    "8- TMAX: maximum temperature recorded on the given date.\n",
    "9- TMIN: minimum temperature recorded on the given date."
   ]
  },
  {
   "cell_type": "code",
   "execution_count": 2,
   "metadata": {
    "id": "Su8E0uLuYkHU"
   },
   "outputs": [
    {
     "name": "stdout",
     "output_type": "stream",
     "text": [
      "           DATE  LATITUDE  LONGITUDE    SNOW  PRCP    SNWD  TAVG  TMAX  TMIN\n",
      "0      20160101  41.06390  -73.77220     0.0  0.00 -9999.0 -9999 -9999 -9999\n",
      "1      20160102  41.06390  -73.77220     0.0  0.00 -9999.0 -9999 -9999 -9999\n",
      "2      20160103  41.06390  -73.77220     0.0  0.00 -9999.0 -9999 -9999 -9999\n",
      "3      20160104  41.06390  -73.77220     0.0  0.00 -9999.0 -9999 -9999 -9999\n",
      "4      20160105  41.06390  -73.77220     0.0  0.00 -9999.0 -9999 -9999 -9999\n",
      "...         ...       ...        ...     ...   ...     ...   ...   ...   ...\n",
      "32202  20170709  40.73417  -73.41694 -9999.0  0.00 -9999.0 -9999    82    67\n",
      "32203  20170710  40.73417  -73.41694 -9999.0  0.00 -9999.0 -9999    81    64\n",
      "32204  20170711  40.73417  -73.41694 -9999.0  0.06 -9999.0 -9999    86    74\n",
      "32205  20170712  40.73417  -73.41694 -9999.0  0.00 -9999.0 -9999    90    74\n",
      "32206  20170713  40.73417  -73.41694 -9999.0  0.01 -9999.0 -9999    91    68\n",
      "\n",
      "[32207 rows x 9 columns]\n"
     ]
    }
   ],
   "source": [
    "#First dataset is from a url saved in my github repository which includes the weather in New York Citry for the years 2016 and 2017 \n",
    "#I programatically loaded the dataset \n",
    "url = 'https://raw.githubusercontent.com/ChristinaNSaba/dataanalysis/fc795c2aa5588dad5106c9f64d7f4c1a6b85f48e/nyc_Jan_Jun_2016_weat.csv'\n",
    "folder_name = 'data'\n",
    "if not os.path.exists(folder_name):\n",
    "    os.makedirs(folder_name)\n",
    "\n",
    "# Define file path\n",
    "file_path = os.path.join(folder_name, 'nyc_Jan_Jun_2016_weat.csv')\n",
    "\n",
    "# Download the file\n",
    "response = requests.get(url)\n",
    "response.raise_for_status()\n",
    "\n",
    "# Save the file\n",
    "with open(file_path, mode='wb') as file:\n",
    "    file.write(response.content)\n",
    "\n",
    "# Read the file using pandas\n",
    "original_weather_df = pd.read_csv(file_path)\n",
    "weather_df = original_weather_df.copy()\n",
    "print(weather_df)"
   ]
  },
  {
   "cell_type": "code",
   "execution_count": 3,
   "metadata": {},
   "outputs": [],
   "source": [
    "original_weather_df.to_csv('original_weather_df.csv', index=False)"
   ]
  },
  {
   "cell_type": "code",
   "execution_count": 4,
   "metadata": {
    "scrolled": false
   },
   "outputs": [
    {
     "data": {
      "text/plain": [
       "DATE           int64\n",
       "LATITUDE     float64\n",
       "LONGITUDE    float64\n",
       "SNOW         float64\n",
       "PRCP         float64\n",
       "SNWD         float64\n",
       "TAVG           int64\n",
       "TMAX           int64\n",
       "TMIN           int64\n",
       "dtype: object"
      ]
     },
     "execution_count": 4,
     "metadata": {},
     "output_type": "execute_result"
    }
   ],
   "source": [
    "weather_df.dtypes"
   ]
  },
  {
   "cell_type": "code",
   "execution_count": 5,
   "metadata": {
    "scrolled": true
   },
   "outputs": [
    {
     "name": "stdout",
     "output_type": "stream",
     "text": [
      "           DATE  LATITUDE  LONGITUDE    SNOW  PRCP    SNWD  TAVG  TMAX  TMIN\n",
      "25837  20160603  40.95110  -74.11830 -9999.0  0.02 -9999.0 -9999 -9999 -9999\n",
      "25924  20160910  40.95110  -74.11830 -9999.0  0.33 -9999.0 -9999 -9999 -9999\n",
      "17855  20161110  41.04440  -74.29330     0.0  0.20     0.0 -9999 -9999 -9999\n",
      "836    20170503  41.01910  -74.23340 -9999.0  0.00 -9999.0 -9999 -9999 -9999\n",
      "24821  20161111  40.74360  -74.35390     0.0  0.00     0.0 -9999    64    38\n",
      "29887  20170524  40.30340  -74.04000 -9999.0  0.01 -9999.0 -9999 -9999 -9999\n",
      "4023   20160630  40.57590  -74.28470     0.0  0.00 -9999.0 -9999 -9999 -9999\n",
      "31263  20160624  40.87639  -74.28306 -9999.0  0.00 -9999.0 -9999    84    63\n",
      "2157   20160509  40.95190  -74.15770 -9999.0  0.25 -9999.0 -9999 -9999 -9999\n",
      "3446   20170511  40.29700  -74.00150 -9999.0  0.00 -9999.0 -9999 -9999 -9999\n"
     ]
    }
   ],
   "source": [
    "samples = weather_df.sample(n=10)\n",
    "print(samples)"
   ]
  },
  {
   "cell_type": "code",
   "execution_count": 6,
   "metadata": {
    "scrolled": true
   },
   "outputs": [
    {
     "name": "stdout",
     "output_type": "stream",
     "text": [
      "Filtered Weather DataFrame:\n",
      "        DATE  LATITUDE  LONGITUDE  SNOW  PRCP    SNWD  TAVG  TMAX  TMIN\n",
      "0 2016-01-01   41.0639   -73.7722   0.0   0.0 -9999.0 -9999 -9999 -9999\n",
      "1 2016-01-02   41.0639   -73.7722   0.0   0.0 -9999.0 -9999 -9999 -9999\n",
      "2 2016-01-03   41.0639   -73.7722   0.0   0.0 -9999.0 -9999 -9999 -9999\n",
      "3 2016-01-04   41.0639   -73.7722   0.0   0.0 -9999.0 -9999 -9999 -9999\n",
      "4 2016-01-05   41.0639   -73.7722   0.0   0.0 -9999.0 -9999 -9999 -9999\n",
      "<class 'pandas.core.frame.DataFrame'>\n",
      "Index: 10985 entries, 0 to 31828\n",
      "Data columns (total 9 columns):\n",
      " #   Column     Non-Null Count  Dtype         \n",
      "---  ------     --------------  -----         \n",
      " 0   DATE       10985 non-null  datetime64[ns]\n",
      " 1   LATITUDE   10985 non-null  float64       \n",
      " 2   LONGITUDE  10985 non-null  float64       \n",
      " 3   SNOW       10985 non-null  float64       \n",
      " 4   PRCP       10985 non-null  float64       \n",
      " 5   SNWD       10985 non-null  float64       \n",
      " 6   TAVG       10985 non-null  int64         \n",
      " 7   TMAX       10985 non-null  int64         \n",
      " 8   TMIN       10985 non-null  int64         \n",
      "dtypes: datetime64[ns](1), float64(5), int64(3)\n",
      "memory usage: 858.2 KB\n"
     ]
    }
   ],
   "source": [
    "#now in order to filter the data and only get the needed values we need to change the data type to date\n",
    "weather_df['DATE'] = pd.to_datetime(weather_df['DATE'], format='%Y%m%d')\n",
    "weather_df['DATE'].head(5)\n",
    "\n",
    "# Filter for dates between January and June 2016\n",
    "start_date = '2016-01-01'\n",
    "end_date = '2016-06-30'\n",
    "mask = (weather_df['DATE'] >= start_date) &  (weather_df['DATE'] <= end_date)\n",
    "filtered_weather_df = weather_df.loc[mask]\n",
    "\n",
    "print(\"Filtered Weather DataFrame:\")\n",
    "print(filtered_weather_df.head())\n",
    "filtered_weather_df.sample(n=10, random_state=1)\n",
    "\n",
    "filtered_weather_df = filtered_weather_df.copy()\n",
    "filtered_weather_df.info()"
   ]
  },
  {
   "cell_type": "code",
   "execution_count": 7,
   "metadata": {
    "scrolled": true
   },
   "outputs": [
    {
     "name": "stdout",
     "output_type": "stream",
     "text": [
      "Missing Values in Each Column:\n",
      "DATE         0\n",
      "LATITUDE     0\n",
      "LONGITUDE    0\n",
      "SNOW         0\n",
      "PRCP         0\n",
      "SNWD         0\n",
      "TAVG         0\n",
      "TMAX         0\n",
      "TMIN         0\n",
      "dtype: int64\n",
      "Number of Duplicate Rows:\n",
      "0\n",
      "Data Types of Each Column:\n",
      "DATE         datetime64[ns]\n",
      "LATITUDE            float64\n",
      "LONGITUDE           float64\n",
      "SNOW                float64\n",
      "PRCP                float64\n",
      "SNWD                float64\n",
      "TAVG                  int64\n",
      "TMAX                  int64\n",
      "TMIN                  int64\n",
      "dtype: object\n",
      "                                DATE      LATITUDE     LONGITUDE  \\\n",
      "count                          10985  10985.000000  10985.000000   \n",
      "mean   2016-03-31 04:25:11.442876672     40.757556    -74.116415   \n",
      "min              2016-01-01 00:00:00     40.275400    -74.482700   \n",
      "25%              2016-02-15 00:00:00     40.662300    -74.284700   \n",
      "50%              2016-04-01 00:00:00     40.755600    -74.152300   \n",
      "75%              2016-05-15 00:00:00     40.909600    -74.000200   \n",
      "max              2016-06-30 00:00:00     41.083500    -73.372200   \n",
      "std                              NaN      0.211198      0.251492   \n",
      "\n",
      "               SNOW          PRCP          SNWD          TAVG          TMAX  \\\n",
      "count  10985.000000  10985.000000  10985.000000  10985.000000  10985.000000   \n",
      "mean   -3790.130232    -52.688107  -7132.343432  -9499.465089  -7792.448066   \n",
      "min    -9999.000000  -9999.000000  -9999.000000  -9999.000000  -9999.000000   \n",
      "25%    -9999.000000      0.000000  -9999.000000  -9999.000000  -9999.000000   \n",
      "50%        0.000000      0.000000  -9999.000000  -9999.000000  -9999.000000   \n",
      "75%        0.000000      0.060000      0.000000  -9999.000000  -9999.000000   \n",
      "max       30.300000     17.760000     30.700000     82.000000     96.000000   \n",
      "std     4851.361837    724.678556   4522.268641   2184.335172   4162.395032   \n",
      "\n",
      "               TMIN  \n",
      "count  10985.000000  \n",
      "mean   -7787.317706  \n",
      "min    -9999.000000  \n",
      "25%    -9999.000000  \n",
      "50%    -9999.000000  \n",
      "75%    -9999.000000  \n",
      "max       73.000000  \n",
      "std     4161.013836  \n",
      "\n",
      "\n",
      "\n",
      "\n"
     ]
    }
   ],
   "source": [
    "#Check for missing values\n",
    "missing_values = filtered_weather_df.isnull().sum()\n",
    "print(\"Missing Values in Each Column:\")\n",
    "print(missing_values)\n",
    "\n",
    "#Check for duplicate rows\n",
    "duplicate_rows = filtered_weather_df.duplicated().sum()\n",
    "print(\"Number of Duplicate Rows:\")\n",
    "print(duplicate_rows)\n",
    "\n",
    "#Check data types\n",
    "data_types = filtered_weather_df.dtypes\n",
    "print(\"Data Types of Each Column:\")\n",
    "print(data_types)\n",
    "\n",
    "description = filtered_weather_df.describe()\n",
    "print(description)\n",
    "print(\"\\n\")\n",
    "print(\"\\n\")"
   ]
  },
  {
   "cell_type": "markdown",
   "metadata": {
    "id": "hoUjq1tPzz7P"
   },
   "source": [
    "#### Dataset 2\n",
    "\n",
    "Type: CSV files\n",
    "\n",
    "Method: The csv files are downloaded manually to jupyter and I read them using read_csv from pandas, there are 6 datasets indicating each month for the bike riding then concatenated.\n",
    "\n",
    "Dataset variables:\n",
    "\n",
    "1- Tripduration: The duration of the trip in seconds.\n",
    "2- Starttime: The date and time when the trip started formatted as MM/DD/YYYY HH:MM:SS together.\n",
    "3- Stoptime: The date and time when the trip ended formatted as MM/DD/YYYY HH:MM:SS together.\n",
    "4- Start station id: The station where the trip started.\n",
    "5- Start station name: Name of the station where the trip started.\n",
    "6- Start station latitude: The latitude coordinate of the start station.\n",
    "7- Start station longitude: The longitude coordinate of the start station.\n",
    "8- End station id: ID of the station where the trip ended.\n",
    "9- End station name: The name of the station where the trip ended.\n",
    "10- End station latitude: The latitude coordinate of the end station.\n",
    "11- End station longitude: The longitude coordinate of the end station.\n",
    "12- Bikeid: The unique identifier for the bike used in the trip.\n",
    "13- User Type: Customer = 24-hour pass or 3-day pass user; Subscriber = Annual Member. \n",
    "14- Birth year: The birth year of the user.\n",
    "15- Gender: The gender of the user 0 for unknown, 1 for male, and 2 for female."
   ]
  },
  {
   "cell_type": "code",
   "execution_count": 8,
   "metadata": {
    "id": "6zT0QxRyYmm7",
    "scrolled": true
   },
   "outputs": [
    {
     "data": {
      "text/html": [
       "<div>\n",
       "<style scoped>\n",
       "    .dataframe tbody tr th:only-of-type {\n",
       "        vertical-align: middle;\n",
       "    }\n",
       "\n",
       "    .dataframe tbody tr th {\n",
       "        vertical-align: top;\n",
       "    }\n",
       "\n",
       "    .dataframe thead th {\n",
       "        text-align: right;\n",
       "    }\n",
       "</style>\n",
       "<table border=\"1\" class=\"dataframe\">\n",
       "  <thead>\n",
       "    <tr style=\"text-align: right;\">\n",
       "      <th></th>\n",
       "      <th>tripduration</th>\n",
       "      <th>starttime</th>\n",
       "      <th>stoptime</th>\n",
       "      <th>start station id</th>\n",
       "      <th>start station name</th>\n",
       "      <th>start station latitude</th>\n",
       "      <th>start station longitude</th>\n",
       "      <th>end station id</th>\n",
       "      <th>end station name</th>\n",
       "      <th>end station latitude</th>\n",
       "      <th>end station longitude</th>\n",
       "      <th>bikeid</th>\n",
       "      <th>usertype</th>\n",
       "      <th>birth year</th>\n",
       "      <th>gender</th>\n",
       "    </tr>\n",
       "  </thead>\n",
       "  <tbody>\n",
       "    <tr>\n",
       "      <th>0</th>\n",
       "      <td>511</td>\n",
       "      <td>1/30/2016 10:08:53</td>\n",
       "      <td>1/30/2016 10:17:25</td>\n",
       "      <td>449.0</td>\n",
       "      <td>W 52 St &amp; 9 Ave</td>\n",
       "      <td>40.764618</td>\n",
       "      <td>-73.987895</td>\n",
       "      <td>446.0</td>\n",
       "      <td>W 24 St &amp; 7 Ave</td>\n",
       "      <td>40.744876</td>\n",
       "      <td>-73.995299</td>\n",
       "      <td>24138.0</td>\n",
       "      <td>Subscriber</td>\n",
       "      <td>1990.0</td>\n",
       "      <td>1.0</td>\n",
       "    </tr>\n",
       "    <tr>\n",
       "      <th>1</th>\n",
       "      <td>208</td>\n",
       "      <td>1/9/2016 12:00:13</td>\n",
       "      <td>1/9/2016 12:03:41</td>\n",
       "      <td>236.0</td>\n",
       "      <td>St Marks Pl &amp; 2 Ave</td>\n",
       "      <td>40.728419</td>\n",
       "      <td>-73.987140</td>\n",
       "      <td>301.0</td>\n",
       "      <td>E 2 St &amp; Avenue B</td>\n",
       "      <td>40.722174</td>\n",
       "      <td>-73.983688</td>\n",
       "      <td>22623.0</td>\n",
       "      <td>Subscriber</td>\n",
       "      <td>1967.0</td>\n",
       "      <td>1.0</td>\n",
       "    </tr>\n",
       "    <tr>\n",
       "      <th>2</th>\n",
       "      <td>1047</td>\n",
       "      <td>1/9/2016 12:51:35</td>\n",
       "      <td>1/9/2016 13:09:03</td>\n",
       "      <td>449.0</td>\n",
       "      <td>W 52 St &amp; 9 Ave</td>\n",
       "      <td>40.764618</td>\n",
       "      <td>-73.987895</td>\n",
       "      <td>487.0</td>\n",
       "      <td>E 20 St &amp; FDR Drive</td>\n",
       "      <td>40.733143</td>\n",
       "      <td>-73.975739</td>\n",
       "      <td>20346.0</td>\n",
       "      <td>Subscriber</td>\n",
       "      <td>1988.0</td>\n",
       "      <td>1.0</td>\n",
       "    </tr>\n",
       "    <tr>\n",
       "      <th>3</th>\n",
       "      <td>413</td>\n",
       "      <td>1/3/2016 21:26:44</td>\n",
       "      <td>1/3/2016 21:33:38</td>\n",
       "      <td>242.0</td>\n",
       "      <td>Carlton Ave &amp; Flushing Ave</td>\n",
       "      <td>40.697787</td>\n",
       "      <td>-73.973736</td>\n",
       "      <td>397.0</td>\n",
       "      <td>Fulton St &amp; Clermont Ave</td>\n",
       "      <td>40.684157</td>\n",
       "      <td>-73.969223</td>\n",
       "      <td>17279.0</td>\n",
       "      <td>Subscriber</td>\n",
       "      <td>1986.0</td>\n",
       "      <td>1.0</td>\n",
       "    </tr>\n",
       "    <tr>\n",
       "      <th>4</th>\n",
       "      <td>1946</td>\n",
       "      <td>1/6/2016 19:43:00</td>\n",
       "      <td>1/6/2016 20:15:26</td>\n",
       "      <td>241.0</td>\n",
       "      <td>DeKalb Ave &amp; S Portland Ave</td>\n",
       "      <td>40.689810</td>\n",
       "      <td>-73.974931</td>\n",
       "      <td>3002.0</td>\n",
       "      <td>South End Ave &amp; Liberty St</td>\n",
       "      <td>40.711512</td>\n",
       "      <td>-74.015756</td>\n",
       "      <td>21162.0</td>\n",
       "      <td>Subscriber</td>\n",
       "      <td>1994.0</td>\n",
       "      <td>2.0</td>\n",
       "    </tr>\n",
       "    <tr>\n",
       "      <th>5</th>\n",
       "      <td>876</td>\n",
       "      <td>1/15/2016 08:55:53</td>\n",
       "      <td>1/15/2016 09:10:30</td>\n",
       "      <td>510.0</td>\n",
       "      <td>W 51 St &amp; 6 Ave</td>\n",
       "      <td>40.760660</td>\n",
       "      <td>-73.980420</td>\n",
       "      <td>528.0</td>\n",
       "      <td>2 Ave &amp; E 31 St</td>\n",
       "      <td>40.742909</td>\n",
       "      <td>-73.977061</td>\n",
       "      <td>15974.0</td>\n",
       "      <td>Subscriber</td>\n",
       "      <td>1961.0</td>\n",
       "      <td>1.0</td>\n",
       "    </tr>\n",
       "    <tr>\n",
       "      <th>6</th>\n",
       "      <td>430</td>\n",
       "      <td>1/11/2016 18:14:59</td>\n",
       "      <td>1/11/2016 18:22:10</td>\n",
       "      <td>523.0</td>\n",
       "      <td>W 38 St &amp; 8 Ave</td>\n",
       "      <td>40.754666</td>\n",
       "      <td>-73.991382</td>\n",
       "      <td>517.0</td>\n",
       "      <td>Pershing Square South</td>\n",
       "      <td>40.751581</td>\n",
       "      <td>-73.977910</td>\n",
       "      <td>15741.0</td>\n",
       "      <td>Subscriber</td>\n",
       "      <td>1968.0</td>\n",
       "      <td>1.0</td>\n",
       "    </tr>\n",
       "    <tr>\n",
       "      <th>7</th>\n",
       "      <td>592</td>\n",
       "      <td>1/6/2016 08:37:19</td>\n",
       "      <td>1/6/2016 08:47:11</td>\n",
       "      <td>3002.0</td>\n",
       "      <td>South End Ave &amp; Liberty St</td>\n",
       "      <td>40.711512</td>\n",
       "      <td>-74.015756</td>\n",
       "      <td>427.0</td>\n",
       "      <td>Bus Slip &amp; State St</td>\n",
       "      <td>40.701907</td>\n",
       "      <td>-74.013942</td>\n",
       "      <td>22399.0</td>\n",
       "      <td>Subscriber</td>\n",
       "      <td>1966.0</td>\n",
       "      <td>1.0</td>\n",
       "    </tr>\n",
       "    <tr>\n",
       "      <th>8</th>\n",
       "      <td>580</td>\n",
       "      <td>1/20/2016 18:50:09</td>\n",
       "      <td>1/20/2016 18:59:49</td>\n",
       "      <td>168.0</td>\n",
       "      <td>W 18 St &amp; 6 Ave</td>\n",
       "      <td>40.739713</td>\n",
       "      <td>-73.994564</td>\n",
       "      <td>523.0</td>\n",
       "      <td>W 38 St &amp; 8 Ave</td>\n",
       "      <td>40.754666</td>\n",
       "      <td>-73.991382</td>\n",
       "      <td>18123.0</td>\n",
       "      <td>Subscriber</td>\n",
       "      <td>1975.0</td>\n",
       "      <td>1.0</td>\n",
       "    </tr>\n",
       "    <tr>\n",
       "      <th>9</th>\n",
       "      <td>734</td>\n",
       "      <td>1/7/2016 15:33:58</td>\n",
       "      <td>1/7/2016 15:46:12</td>\n",
       "      <td>401.0</td>\n",
       "      <td>Allen St &amp; Rivington St</td>\n",
       "      <td>40.720196</td>\n",
       "      <td>-73.989978</td>\n",
       "      <td>346.0</td>\n",
       "      <td>Bank St &amp; Hudson St</td>\n",
       "      <td>40.736529</td>\n",
       "      <td>-74.006180</td>\n",
       "      <td>22753.0</td>\n",
       "      <td>Subscriber</td>\n",
       "      <td>1980.0</td>\n",
       "      <td>2.0</td>\n",
       "    </tr>\n",
       "  </tbody>\n",
       "</table>\n",
       "</div>"
      ],
      "text/plain": [
       "   tripduration           starttime            stoptime  start station id  \\\n",
       "0           511  1/30/2016 10:08:53  1/30/2016 10:17:25             449.0   \n",
       "1           208   1/9/2016 12:00:13   1/9/2016 12:03:41             236.0   \n",
       "2          1047   1/9/2016 12:51:35   1/9/2016 13:09:03             449.0   \n",
       "3           413   1/3/2016 21:26:44   1/3/2016 21:33:38             242.0   \n",
       "4          1946   1/6/2016 19:43:00   1/6/2016 20:15:26             241.0   \n",
       "5           876  1/15/2016 08:55:53  1/15/2016 09:10:30             510.0   \n",
       "6           430  1/11/2016 18:14:59  1/11/2016 18:22:10             523.0   \n",
       "7           592   1/6/2016 08:37:19   1/6/2016 08:47:11            3002.0   \n",
       "8           580  1/20/2016 18:50:09  1/20/2016 18:59:49             168.0   \n",
       "9           734   1/7/2016 15:33:58   1/7/2016 15:46:12             401.0   \n",
       "\n",
       "            start station name  start station latitude  \\\n",
       "0              W 52 St & 9 Ave               40.764618   \n",
       "1          St Marks Pl & 2 Ave               40.728419   \n",
       "2              W 52 St & 9 Ave               40.764618   \n",
       "3   Carlton Ave & Flushing Ave               40.697787   \n",
       "4  DeKalb Ave & S Portland Ave               40.689810   \n",
       "5              W 51 St & 6 Ave               40.760660   \n",
       "6              W 38 St & 8 Ave               40.754666   \n",
       "7   South End Ave & Liberty St               40.711512   \n",
       "8              W 18 St & 6 Ave               40.739713   \n",
       "9      Allen St & Rivington St               40.720196   \n",
       "\n",
       "   start station longitude  end station id            end station name  \\\n",
       "0               -73.987895           446.0             W 24 St & 7 Ave   \n",
       "1               -73.987140           301.0           E 2 St & Avenue B   \n",
       "2               -73.987895           487.0         E 20 St & FDR Drive   \n",
       "3               -73.973736           397.0    Fulton St & Clermont Ave   \n",
       "4               -73.974931          3002.0  South End Ave & Liberty St   \n",
       "5               -73.980420           528.0             2 Ave & E 31 St   \n",
       "6               -73.991382           517.0       Pershing Square South   \n",
       "7               -74.015756           427.0         Bus Slip & State St   \n",
       "8               -73.994564           523.0             W 38 St & 8 Ave   \n",
       "9               -73.989978           346.0         Bank St & Hudson St   \n",
       "\n",
       "   end station latitude  end station longitude   bikeid    usertype  \\\n",
       "0             40.744876             -73.995299  24138.0  Subscriber   \n",
       "1             40.722174             -73.983688  22623.0  Subscriber   \n",
       "2             40.733143             -73.975739  20346.0  Subscriber   \n",
       "3             40.684157             -73.969223  17279.0  Subscriber   \n",
       "4             40.711512             -74.015756  21162.0  Subscriber   \n",
       "5             40.742909             -73.977061  15974.0  Subscriber   \n",
       "6             40.751581             -73.977910  15741.0  Subscriber   \n",
       "7             40.701907             -74.013942  22399.0  Subscriber   \n",
       "8             40.754666             -73.991382  18123.0  Subscriber   \n",
       "9             40.736529             -74.006180  22753.0  Subscriber   \n",
       "\n",
       "   birth year  gender  \n",
       "0      1990.0     1.0  \n",
       "1      1967.0     1.0  \n",
       "2      1988.0     1.0  \n",
       "3      1986.0     1.0  \n",
       "4      1994.0     2.0  \n",
       "5      1961.0     1.0  \n",
       "6      1968.0     1.0  \n",
       "7      1966.0     1.0  \n",
       "8      1975.0     1.0  \n",
       "9      1980.0     2.0  "
      ]
     },
     "execution_count": 8,
     "metadata": {},
     "output_type": "execute_result"
    }
   ],
   "source": [
    "#These datasets here are all related to the bike riding in New York City in each month from january to june in 2016 \n",
    "#They are downloaded manually and concatenated to be cleaned and analyzed\n",
    "#Since they are huge they are randomly narrowed to obtain 500 data from each month\n",
    "file_paths = [\n",
    "    '201601-citibike-tripdata_1.csv',\n",
    "    '201602-citibike-tripdata_1.csv',\n",
    "    '201603-citibike-tripdata_1.csv',\n",
    "    '201604-citibike-tripdata_1.csv',\n",
    "    '201605-citibike-tripdata_1.csv',\n",
    "    '201606-citibike-tripdata_1.csv'\n",
    "]\n",
    "\n",
    "# Read and sample 500 rows from each file\n",
    "sampled_dfs = []\n",
    "for file in file_paths:\n",
    "    df = pd.read_csv(file)\n",
    "    sampled_df = df.sample(n=500, random_state=42)\n",
    "    sampled_dfs.append(sampled_df)\n",
    "\n",
    "# Concatenate the sampled DataFrames\n",
    "bikeshare_df = pd.concat(sampled_dfs, ignore_index=True)\n",
    "\n",
    "bikeshare = bikeshare_df.copy()\n",
    "bikeshare.head(10)"
   ]
  },
  {
   "cell_type": "code",
   "execution_count": 9,
   "metadata": {},
   "outputs": [],
   "source": [
    "bikeshare_df.to_csv('bikeshare_df.csv', index=False)"
   ]
  },
  {
   "cell_type": "code",
   "execution_count": 10,
   "metadata": {
    "scrolled": true
   },
   "outputs": [
    {
     "name": "stdout",
     "output_type": "stream",
     "text": [
      "<class 'pandas.core.frame.DataFrame'>\n",
      "RangeIndex: 3000 entries, 0 to 2999\n",
      "Data columns (total 15 columns):\n",
      " #   Column                   Non-Null Count  Dtype  \n",
      "---  ------                   --------------  -----  \n",
      " 0   tripduration             3000 non-null   int64  \n",
      " 1   starttime                3000 non-null   object \n",
      " 2   stoptime                 3000 non-null   object \n",
      " 3   start station id         3000 non-null   float64\n",
      " 4   start station name       3000 non-null   object \n",
      " 5   start station latitude   3000 non-null   float64\n",
      " 6   start station longitude  3000 non-null   float64\n",
      " 7   end station id           3000 non-null   float64\n",
      " 8   end station name         3000 non-null   object \n",
      " 9   end station latitude     3000 non-null   float64\n",
      " 10  end station longitude    3000 non-null   float64\n",
      " 11  bikeid                   3000 non-null   float64\n",
      " 12  usertype                 3000 non-null   object \n",
      " 13  birth year               2687 non-null   float64\n",
      " 14  gender                   3000 non-null   float64\n",
      "dtypes: float64(9), int64(1), object(5)\n",
      "memory usage: 351.7+ KB\n"
     ]
    }
   ],
   "source": [
    "bikeshare.info()"
   ]
  },
  {
   "cell_type": "code",
   "execution_count": 11,
   "metadata": {},
   "outputs": [
    {
     "name": "stdout",
     "output_type": "stream",
     "text": [
      "Duplicates: 0\n",
      "       tripduration  start station id  start station latitude  \\\n",
      "count  3.000000e+03       3000.000000             3000.000000   \n",
      "mean   1.873686e+03        883.240667               40.737691   \n",
      "std    5.339125e+04       1037.988428                0.021871   \n",
      "min    6.100000e+01         72.000000               40.680342   \n",
      "25%    3.670000e+02        329.000000               40.722055   \n",
      "50%    5.890000e+02        450.000000               40.739126   \n",
      "75%    9.655000e+02        523.000000               40.752263   \n",
      "max    2.921865e+06       3255.000000               40.787209   \n",
      "\n",
      "       start station longitude  end station id  end station latitude  \\\n",
      "count              3000.000000     3000.000000           3000.000000   \n",
      "mean                -73.987040      901.518333             40.737552   \n",
      "std                   0.015717     1059.878240              0.021999   \n",
      "min                 -74.017134       72.000000             40.678907   \n",
      "25%                 -73.998102      330.000000             40.722174   \n",
      "50%                 -73.988597      454.000000             40.739355   \n",
      "75%                 -73.977825      524.000000             40.751873   \n",
      "max                 -73.935404     3255.000000             40.787209   \n",
      "\n",
      "       end station longitude       bikeid   birth year       gender  \n",
      "count            3000.000000   3000.00000  2687.000000  3000.000000  \n",
      "mean              -73.986614  19916.87100  1976.892817     1.090333  \n",
      "std                 0.016061   3075.71846    11.726645     0.545533  \n",
      "min               -74.017134  14530.00000  1900.000000     0.000000  \n",
      "25%               -73.997262  17207.00000  1969.000000     1.000000  \n",
      "50%               -73.988484  19979.50000  1980.000000     1.000000  \n",
      "75%               -73.977550  22678.75000  1986.000000     1.000000  \n",
      "max               -73.935610  25802.00000  1999.000000     2.000000  \n",
      "\n",
      "Unique Values of Bikeshare dataset:\n",
      "usertype\n",
      "Subscriber    2701\n",
      "Customer       299\n",
      "Name: count, dtype: int64\n",
      "\n",
      "Birth Year Value Counts:\n",
      "birth year\n",
      "1987.0    119\n",
      "1983.0    118\n",
      "1984.0    107\n",
      "1985.0    107\n",
      "1990.0    101\n",
      "         ... \n",
      "1941.0      2\n",
      "1943.0      2\n",
      "1942.0      1\n",
      "1900.0      1\n",
      "1944.0      1\n",
      "Name: count, Length: 61, dtype: int64\n"
     ]
    }
   ],
   "source": [
    "# Check for duplicates\n",
    "print(\"Duplicates:\", bikeshare.duplicated().sum())\n",
    "\n",
    "print(bikeshare.describe())\n",
    "\n",
    "print(\"\\nUnique Values of Bikeshare dataset:\")\n",
    "print(bikeshare['usertype'].value_counts())\n",
    "\n",
    "#birth year unrealistic values\n",
    "print(\"\\nBirth Year Value Counts:\")\n",
    "print(bikeshare['birth year'].value_counts())"
   ]
  },
  {
   "cell_type": "markdown",
   "metadata": {},
   "source": [
    "Optional data storing step: You may save your raw dataset files to the local data store before moving to the next step."
   ]
  },
  {
   "cell_type": "code",
   "execution_count": null,
   "metadata": {},
   "outputs": [],
   "source": [
    "original_weather_df #original weather dataset\n",
    "bikeshare_df #original bike dataset"
   ]
  },
  {
   "cell_type": "markdown",
   "metadata": {
    "id": "QwSWIVmotLgV"
   },
   "source": [
    "## 2. Assess data\n",
    "\n",
    "Assess the data according to data quality and tidiness metrics using the report below.\n",
    "\n",
    "List **two** data quality issues and **two** tidiness issues. Assess each data issue visually **and** programmatically, then briefly describe the issue you find.  **Make sure you include justifications for the methods you use for the assessment.**"
   ]
  },
  {
   "cell_type": "markdown",
   "metadata": {
    "id": "adaK2iPNzVu4"
   },
   "source": [
    "### Quality Issue 1:"
   ]
  },
  {
   "cell_type": "code",
   "execution_count": null,
   "metadata": {
    "id": "SpW59kh-zl8d"
   },
   "outputs": [],
   "source": [
    "#Completeness issue in bikeshare dataset\n",
    "#The attribute birth_year seems to have a set of null values "
   ]
  },
  {
   "cell_type": "code",
   "execution_count": 12,
   "metadata": {
    "id": "-qfcocStzsKg"
   },
   "outputs": [
    {
     "name": "stdout",
     "output_type": "stream",
     "text": [
      "Null Birth years sum =  313\n"
     ]
    },
    {
     "data": {
      "image/png": "[encoded data removed]",
      "text/plain": [
       "<Figure size 1200x800 with 2 Axes>"
      ]
     },
     "metadata": {},
     "output_type": "display_data"
    }
   ],
   "source": [
    "birth_year_null = bikeshare['birth year'].isnull().sum()\n",
    "print(\"Null Birth years sum = \", birth_year_null)\n",
    "\n",
    "bikeshare.isnull().sum()\n",
    "\n",
    "# Visualize the null values in the bikeshare dataframe\n",
    "plt.figure(figsize=(12, 8))\n",
    "missing_data = bikeshare.isna().transpose()\n",
    "plt.imshow(missing_data, aspect='auto', cmap='viridis', interpolation='nearest')\n",
    "plt.colorbar(label='Missing Data')\n",
    "plt.yticks(ticks=np.arange(len(missing_data.index)), labels=missing_data.index)\n",
    "plt.xticks(ticks=np.arange(len(missing_data.columns)), labels=missing_data.columns, rotation=90)\n",
    "plt.title('Heatmap of Missing Data in Bikeshare DataFrame')\n",
    "plt.xlabel('Records')\n",
    "plt.ylabel('Features')\n",
    "plt.show()"
   ]
  },
  {
   "cell_type": "markdown",
   "metadata": {},
   "source": [
    "Issue and justification: This completeness issue is detected programatically and visually where there are no null values but only in birth year attribute."
   ]
  },
  {
   "cell_type": "markdown",
   "metadata": {
    "id": "8Be77N4I1AmE"
   },
   "source": [
    "### Quality Issue 2:"
   ]
  },
  {
   "cell_type": "markdown",
   "metadata": {},
   "source": [
    "From the statistics below there are many null values in weather dataset viewed as -9999 in columns TMIN TAVG SNWD and TMAX which are almost equal to the whole count of the dataset\n",
    "We need to drop them\n",
    "PRCP attribute has only 58 values, and Snow attribute has 4164 it is up to trial to check if it can be working if the null values shown as -9999 can be removed and not affect the whole data or replace with 0 indicating no snow and no percipitation."
   ]
  },
  {
   "cell_type": "code",
   "execution_count": 13,
   "metadata": {},
   "outputs": [
    {
     "name": "stdout",
     "output_type": "stream",
     "text": [
      "\n",
      "Study the -9999 values in different columns\n",
      "\n",
      "\n",
      "count    10985.000000\n",
      "mean     -7792.448066\n",
      "std       4162.395032\n",
      "min      -9999.000000\n",
      "25%      -9999.000000\n",
      "50%      -9999.000000\n",
      "75%      -9999.000000\n",
      "max         96.000000\n",
      "Name: TMAX, dtype: float64\n",
      "TMAX -9999 count =  8575\n",
      "\n",
      "\n",
      "count    10985.000000\n",
      "mean     -3790.130232\n",
      "std       4851.361837\n",
      "min      -9999.000000\n",
      "25%      -9999.000000\n",
      "50%          0.000000\n",
      "75%          0.000000\n",
      "max         30.300000\n",
      "Name: SNOW, dtype: float64\n",
      "SNOW -9999.0 count =  4164\n",
      "\n",
      "\n",
      "count    10985.000000\n",
      "mean     -9499.465089\n",
      "std       2184.335172\n",
      "min      -9999.000000\n",
      "25%      -9999.000000\n",
      "50%      -9999.000000\n",
      "75%      -9999.000000\n",
      "max         82.000000\n",
      "Name: TAVG, dtype: float64\n",
      "TAVG -9999.0 count =  10439\n",
      "\n",
      "\n",
      "count    10985.000000\n",
      "mean     -7787.317706\n",
      "std       4161.013836\n",
      "min      -9999.000000\n",
      "25%      -9999.000000\n",
      "50%      -9999.000000\n",
      "75%      -9999.000000\n",
      "max         73.000000\n",
      "Name: TMIN, dtype: float64\n",
      "TMIN -9999.0 count =  8565\n",
      "\n",
      "\n",
      "count    10985.000000\n",
      "mean     -7132.343432\n",
      "std       4522.268641\n",
      "min      -9999.000000\n",
      "25%      -9999.000000\n",
      "50%      -9999.000000\n",
      "75%          0.000000\n",
      "max         30.700000\n",
      "Name: SNWD, dtype: float64\n",
      "SNWD -9999.0 count =  7836\n",
      "\n",
      "\n",
      "count    10985.000000\n",
      "mean       -52.688107\n",
      "std        724.678556\n",
      "min      -9999.000000\n",
      "25%          0.000000\n",
      "50%          0.000000\n",
      "75%          0.060000\n",
      "max         17.760000\n",
      "Name: PRCP, dtype: float64\n",
      "PRCP -9999.0 count =  58\n"
     ]
    },
    {
     "data": {
      "text/plain": [
       "PRCP\n",
       "0.00    6899\n",
       "0.01     397\n",
       "0.02     311\n",
       "0.03     209\n",
       "0.04     196\n",
       "        ... \n",
       "1.56       1\n",
       "1.92       1\n",
       "1.43       1\n",
       "1.72       1\n",
       "2.80       1\n",
       "Name: count, Length: 216, dtype: int64"
      ]
     },
     "execution_count": 13,
     "metadata": {},
     "output_type": "execute_result"
    }
   ],
   "source": [
    "print(\"\\nStudy the -9999 values in different columns\")\n",
    "print(\"\\n\")\n",
    "\n",
    "print((filtered_weather_df['TMAX'].describe()))\n",
    "print(\"TMAX -9999 count = \", (filtered_weather_df['TMAX'] == -9999).sum())\n",
    "print(\"\\n\")\n",
    "print((filtered_weather_df['SNOW'].describe()))\n",
    "print(\"SNOW -9999.0 count = \", (filtered_weather_df['SNOW'] == -9999.0).sum())\n",
    "print(\"\\n\")\n",
    "print((filtered_weather_df['TAVG'].describe()))\n",
    "print(\"TAVG -9999.0 count = \", (filtered_weather_df['TAVG'] == -9999.0).sum())\n",
    "print(\"\\n\")\n",
    "print((filtered_weather_df['TMIN'].describe()))\n",
    "print(\"TMIN -9999.0 count = \", (filtered_weather_df['TMIN'] == -9999.0).sum())\n",
    "print(\"\\n\")\n",
    "print((filtered_weather_df['SNWD'].describe()))\n",
    "print(\"SNWD -9999.0 count = \", (filtered_weather_df['SNWD'] == -9999.0).sum())\n",
    "print(\"\\n\")\n",
    "print((filtered_weather_df['PRCP'].describe()))\n",
    "print(\"PRCP -9999.0 count = \", (filtered_weather_df['PRCP'] == -9999.0).sum())\n",
    "filtered_weather_df['PRCP'].value_counts()\n"
   ]
  },
  {
   "cell_type": "markdown",
   "metadata": {},
   "source": [
    "### Tidiness Issue 1:"
   ]
  },
  {
   "cell_type": "code",
   "execution_count": null,
   "metadata": {
    "id": "iMhHyiyLM2I3"
   },
   "outputs": [],
   "source": [
    "#Bikeshare dataset has values with inefficient datatypes like the dates and birth_year\n",
    "#as seen below \n",
    "#starttime                   object\n",
    "#stoptime                    object\n",
    "#birth year                 float64"
   ]
  },
  {
   "cell_type": "code",
   "execution_count": 14,
   "metadata": {
    "id": "bnviRCUI-bb7"
   },
   "outputs": [
    {
     "data": {
      "text/plain": [
       "tripduration                 int64\n",
       "starttime                   object\n",
       "stoptime                    object\n",
       "start station id           float64\n",
       "start station name          object\n",
       "start station latitude     float64\n",
       "start station longitude    float64\n",
       "end station id             float64\n",
       "end station name            object\n",
       "end station latitude       float64\n",
       "end station longitude      float64\n",
       "bikeid                     float64\n",
       "usertype                    object\n",
       "birth year                 float64\n",
       "gender                     float64\n",
       "dtype: object"
      ]
     },
     "execution_count": 14,
     "metadata": {},
     "output_type": "execute_result"
    }
   ],
   "source": [
    "bikeshare.dtypes"
   ]
  },
  {
   "cell_type": "markdown",
   "metadata": {},
   "source": [
    "Issue and justification: The datatypes are not logically consistent, the start and stop time need to be changed to date, and the birth year is found to be float which is wrong and needs to be changed. "
   ]
  },
  {
   "cell_type": "markdown",
   "metadata": {
    "id": "lXhGiYyiwwKN"
   },
   "source": [
    "### Tidiness Issue 2:"
   ]
  },
  {
   "cell_type": "markdown",
   "metadata": {
    "id": "fleC5rORI0Xl",
    "scrolled": false
   },
   "source": [
    "When studying the bikeshare dataset, it is occured that in dataset bikeshare the columns starttime and stoptime include multiple values where the date and the time are both within the same columns cell. "
   ]
  },
  {
   "cell_type": "code",
   "execution_count": 15,
   "metadata": {
    "id": "BTuQw7Rbsio4"
   },
   "outputs": [
    {
     "data": {
      "text/html": [
       "<div>\n",
       "<style scoped>\n",
       "    .dataframe tbody tr th:only-of-type {\n",
       "        vertical-align: middle;\n",
       "    }\n",
       "\n",
       "    .dataframe tbody tr th {\n",
       "        vertical-align: top;\n",
       "    }\n",
       "\n",
       "    .dataframe thead th {\n",
       "        text-align: right;\n",
       "    }\n",
       "</style>\n",
       "<table border=\"1\" class=\"dataframe\">\n",
       "  <thead>\n",
       "    <tr style=\"text-align: right;\">\n",
       "      <th></th>\n",
       "      <th>starttime</th>\n",
       "      <th>stoptime</th>\n",
       "    </tr>\n",
       "  </thead>\n",
       "  <tbody>\n",
       "    <tr>\n",
       "      <th>0</th>\n",
       "      <td>1/30/2016 10:08:53</td>\n",
       "      <td>1/30/2016 10:17:25</td>\n",
       "    </tr>\n",
       "    <tr>\n",
       "      <th>1</th>\n",
       "      <td>1/9/2016 12:00:13</td>\n",
       "      <td>1/9/2016 12:03:41</td>\n",
       "    </tr>\n",
       "    <tr>\n",
       "      <th>2</th>\n",
       "      <td>1/9/2016 12:51:35</td>\n",
       "      <td>1/9/2016 13:09:03</td>\n",
       "    </tr>\n",
       "    <tr>\n",
       "      <th>3</th>\n",
       "      <td>1/3/2016 21:26:44</td>\n",
       "      <td>1/3/2016 21:33:38</td>\n",
       "    </tr>\n",
       "    <tr>\n",
       "      <th>4</th>\n",
       "      <td>1/6/2016 19:43:00</td>\n",
       "      <td>1/6/2016 20:15:26</td>\n",
       "    </tr>\n",
       "    <tr>\n",
       "      <th>...</th>\n",
       "      <td>...</td>\n",
       "      <td>...</td>\n",
       "    </tr>\n",
       "    <tr>\n",
       "      <th>2995</th>\n",
       "      <td>6/17/2016 19:04:09</td>\n",
       "      <td>6/17/2016 19:09:59</td>\n",
       "    </tr>\n",
       "    <tr>\n",
       "      <th>2996</th>\n",
       "      <td>6/7/2016 06:47:41</td>\n",
       "      <td>6/7/2016 06:51:00</td>\n",
       "    </tr>\n",
       "    <tr>\n",
       "      <th>2997</th>\n",
       "      <td>6/17/2016 07:12:02</td>\n",
       "      <td>6/17/2016 07:23:55</td>\n",
       "    </tr>\n",
       "    <tr>\n",
       "      <th>2998</th>\n",
       "      <td>6/4/2016 13:36:18</td>\n",
       "      <td>6/4/2016 13:47:29</td>\n",
       "    </tr>\n",
       "    <tr>\n",
       "      <th>2999</th>\n",
       "      <td>6/1/2016 16:13:15</td>\n",
       "      <td>6/1/2016 16:28:12</td>\n",
       "    </tr>\n",
       "  </tbody>\n",
       "</table>\n",
       "<p>3000 rows × 2 columns</p>\n",
       "</div>"
      ],
      "text/plain": [
       "               starttime            stoptime\n",
       "0     1/30/2016 10:08:53  1/30/2016 10:17:25\n",
       "1      1/9/2016 12:00:13   1/9/2016 12:03:41\n",
       "2      1/9/2016 12:51:35   1/9/2016 13:09:03\n",
       "3      1/3/2016 21:26:44   1/3/2016 21:33:38\n",
       "4      1/6/2016 19:43:00   1/6/2016 20:15:26\n",
       "...                  ...                 ...\n",
       "2995  6/17/2016 19:04:09  6/17/2016 19:09:59\n",
       "2996   6/7/2016 06:47:41   6/7/2016 06:51:00\n",
       "2997  6/17/2016 07:12:02  6/17/2016 07:23:55\n",
       "2998   6/4/2016 13:36:18   6/4/2016 13:47:29\n",
       "2999   6/1/2016 16:13:15   6/1/2016 16:28:12\n",
       "\n",
       "[3000 rows x 2 columns]"
      ]
     },
     "execution_count": 15,
     "metadata": {},
     "output_type": "execute_result"
    }
   ],
   "source": [
    "bikeshare[['starttime', 'stoptime']]"
   ]
  },
  {
   "cell_type": "markdown",
   "metadata": {},
   "source": [
    "Issue and justification: From the above table, we can see that there are two values date and time within the same column and that can cause consistency issues in terms of studying the date only and merging with the other dataset. "
   ]
  },
  {
   "cell_type": "markdown",
   "metadata": {
    "id": "4ffMoRGSwzYj"
   },
   "source": [
    "### Tidiness Issue 3: "
   ]
  },
  {
   "cell_type": "markdown",
   "metadata": {
    "id": "XUpeoqokw5Qt"
   },
   "source": [
    "Column names should be in a consistent format. in bikeshare dataset the columns names are not all in the standard format\n",
    "We can see that some are written like \"start station id\" and some are like starttime they need to have the same when '_' in between"
   ]
  },
  {
   "cell_type": "code",
   "execution_count": 16,
   "metadata": {
    "id": "c8JK4DoXxtFA"
   },
   "outputs": [
    {
     "name": "stdout",
     "output_type": "stream",
     "text": [
      "Index(['tripduration', 'starttime', 'stoptime', 'start station id',\n",
      "       'start station name', 'start station latitude',\n",
      "       'start station longitude', 'end station id', 'end station name',\n",
      "       'end station latitude', 'end station longitude', 'bikeid', 'usertype',\n",
      "       'birth year', 'gender'],\n",
      "      dtype='object')\n"
     ]
    }
   ],
   "source": [
    "print(bikeshare_df.columns)"
   ]
  },
  {
   "cell_type": "markdown",
   "metadata": {},
   "source": [
    "Issue and justification: As seen from the above cells, there can be some misunderstanding in the naming of the columns of the dataset which some are written with spaces and others without which can cause error. It is best to change all of them to a standirized format. "
   ]
  },
  {
   "cell_type": "markdown",
   "metadata": {
    "id": "D6gmLnBttpCh"
   },
   "source": [
    "## 3. Clean data\n",
    "Clean the data to solve the 4 issues corresponding to data quality and tidiness found in the assessing step. **Make sure you include justifications for your cleaning decisions.**\n",
    "\n",
    "After the cleaning for each issue, please use **either** the visually or programatical method to validate the cleaning was succesful.\n",
    "\n",
    "At this stage, you are also expected to remove variables that are unnecessary for your analysis and combine your datasets. Depending on your datasets, you may choose to perform variable combination and elimination before or after the cleaning stage. Your dataset must have **at least** 4 variables after combining the data."
   ]
  },
  {
   "cell_type": "markdown",
   "metadata": {
    "id": "FmFhN52Yyn3l"
   },
   "source": [
    "### **Quality Issue 1: FILL IN**\n",
    "\n",
    "PS: When trying to drop the null birth year values, it was seen that all the users of user type customer were associated with null birth year maybe as a result of not being regulars or subscribers and their birth year data has not been saved.\n",
    "This removal of the null birth years can negatively affect the data and the analysis of bicycle ridings and weather since the user_types are also studied.\n",
    "It is better to drop the birth year column since this column is not used in the first place. This way the data is not biased towards one type and can be correctly studied."
   ]
  },
  {
   "cell_type": "markdown",
   "metadata": {},
   "source": [
    "We can see here from analyzing the dataset bikeshare that the user type customer birth year is only NaN and if it is removed then the user type is biased only with the subscribers which can affect the analysis quality. "
   ]
  },
  {
   "cell_type": "code",
   "execution_count": 17,
   "metadata": {},
   "outputs": [
    {
     "data": {
      "text/html": [
       "<div>\n",
       "<style scoped>\n",
       "    .dataframe tbody tr th:only-of-type {\n",
       "        vertical-align: middle;\n",
       "    }\n",
       "\n",
       "    .dataframe tbody tr th {\n",
       "        vertical-align: top;\n",
       "    }\n",
       "\n",
       "    .dataframe thead th {\n",
       "        text-align: right;\n",
       "    }\n",
       "</style>\n",
       "<table border=\"1\" class=\"dataframe\">\n",
       "  <thead>\n",
       "    <tr style=\"text-align: right;\">\n",
       "      <th></th>\n",
       "      <th>tripduration</th>\n",
       "      <th>starttime</th>\n",
       "      <th>stoptime</th>\n",
       "      <th>start station id</th>\n",
       "      <th>start station name</th>\n",
       "      <th>start station latitude</th>\n",
       "      <th>start station longitude</th>\n",
       "      <th>end station id</th>\n",
       "      <th>end station name</th>\n",
       "      <th>end station latitude</th>\n",
       "      <th>end station longitude</th>\n",
       "      <th>bikeid</th>\n",
       "      <th>usertype</th>\n",
       "      <th>birth year</th>\n",
       "      <th>gender</th>\n",
       "    </tr>\n",
       "  </thead>\n",
       "  <tbody>\n",
       "    <tr>\n",
       "      <th>2137</th>\n",
       "      <td>1900</td>\n",
       "      <td>5/19/2016 09:24:05</td>\n",
       "      <td>5/19/2016 09:55:45</td>\n",
       "      <td>486.0</td>\n",
       "      <td>Broadway &amp; W 29 St</td>\n",
       "      <td>40.746201</td>\n",
       "      <td>-73.988557</td>\n",
       "      <td>3145.0</td>\n",
       "      <td>E 84 St &amp; Park Ave</td>\n",
       "      <td>40.778627</td>\n",
       "      <td>-73.957721</td>\n",
       "      <td>15989.0</td>\n",
       "      <td>Customer</td>\n",
       "      <td>NaN</td>\n",
       "      <td>0.0</td>\n",
       "    </tr>\n",
       "    <tr>\n",
       "      <th>1662</th>\n",
       "      <td>1656</td>\n",
       "      <td>4/10/2016 10:02:02</td>\n",
       "      <td>4/10/2016 10:29:38</td>\n",
       "      <td>3100.0</td>\n",
       "      <td>Nassau Ave &amp; Newell St</td>\n",
       "      <td>40.724813</td>\n",
       "      <td>-73.947526</td>\n",
       "      <td>241.0</td>\n",
       "      <td>DeKalb Ave &amp; S Portland Ave</td>\n",
       "      <td>40.689810</td>\n",
       "      <td>-73.974931</td>\n",
       "      <td>15774.0</td>\n",
       "      <td>Customer</td>\n",
       "      <td>NaN</td>\n",
       "      <td>0.0</td>\n",
       "    </tr>\n",
       "    <tr>\n",
       "      <th>2195</th>\n",
       "      <td>622</td>\n",
       "      <td>5/17/2016 15:31:34</td>\n",
       "      <td>5/17/2016 15:41:57</td>\n",
       "      <td>367.0</td>\n",
       "      <td>E 53 St &amp; Lexington Ave</td>\n",
       "      <td>40.758281</td>\n",
       "      <td>-73.970694</td>\n",
       "      <td>352.0</td>\n",
       "      <td>W 56 St &amp; 6 Ave</td>\n",
       "      <td>40.763406</td>\n",
       "      <td>-73.977225</td>\n",
       "      <td>21438.0</td>\n",
       "      <td>Customer</td>\n",
       "      <td>NaN</td>\n",
       "      <td>0.0</td>\n",
       "    </tr>\n",
       "    <tr>\n",
       "      <th>2082</th>\n",
       "      <td>908</td>\n",
       "      <td>5/21/2016 12:51:28</td>\n",
       "      <td>5/21/2016 13:06:37</td>\n",
       "      <td>237.0</td>\n",
       "      <td>E 11 St &amp; 2 Ave</td>\n",
       "      <td>40.730473</td>\n",
       "      <td>-73.986724</td>\n",
       "      <td>519.0</td>\n",
       "      <td>Pershing Square North</td>\n",
       "      <td>40.751873</td>\n",
       "      <td>-73.977706</td>\n",
       "      <td>18259.0</td>\n",
       "      <td>Customer</td>\n",
       "      <td>NaN</td>\n",
       "      <td>0.0</td>\n",
       "    </tr>\n",
       "    <tr>\n",
       "      <th>1471</th>\n",
       "      <td>1365</td>\n",
       "      <td>3/25/2016 18:22:56</td>\n",
       "      <td>3/25/2016 18:45:42</td>\n",
       "      <td>343.0</td>\n",
       "      <td>Clinton Ave &amp; Flushing Ave</td>\n",
       "      <td>40.697940</td>\n",
       "      <td>-73.969868</td>\n",
       "      <td>217.0</td>\n",
       "      <td>Old Fulton St</td>\n",
       "      <td>40.702772</td>\n",
       "      <td>-73.993836</td>\n",
       "      <td>24143.0</td>\n",
       "      <td>Customer</td>\n",
       "      <td>NaN</td>\n",
       "      <td>0.0</td>\n",
       "    </tr>\n",
       "    <tr>\n",
       "      <th>2224</th>\n",
       "      <td>1349</td>\n",
       "      <td>5/9/2016 11:46:56</td>\n",
       "      <td>5/9/2016 12:09:26</td>\n",
       "      <td>285.0</td>\n",
       "      <td>Broadway &amp; E 14 St</td>\n",
       "      <td>40.734546</td>\n",
       "      <td>-73.990741</td>\n",
       "      <td>296.0</td>\n",
       "      <td>Division St &amp; Bowery</td>\n",
       "      <td>40.714131</td>\n",
       "      <td>-73.997047</td>\n",
       "      <td>15441.0</td>\n",
       "      <td>Customer</td>\n",
       "      <td>NaN</td>\n",
       "      <td>0.0</td>\n",
       "    </tr>\n",
       "    <tr>\n",
       "      <th>1163</th>\n",
       "      <td>504</td>\n",
       "      <td>3/5/2016 14:16:07</td>\n",
       "      <td>3/5/2016 14:24:32</td>\n",
       "      <td>392.0</td>\n",
       "      <td>Jay St &amp; Tech Pl</td>\n",
       "      <td>40.695065</td>\n",
       "      <td>-73.987167</td>\n",
       "      <td>310.0</td>\n",
       "      <td>State St &amp; Smith St</td>\n",
       "      <td>40.689269</td>\n",
       "      <td>-73.989129</td>\n",
       "      <td>24102.0</td>\n",
       "      <td>Customer</td>\n",
       "      <td>NaN</td>\n",
       "      <td>0.0</td>\n",
       "    </tr>\n",
       "    <tr>\n",
       "      <th>2926</th>\n",
       "      <td>5447</td>\n",
       "      <td>6/20/2016 16:55:26</td>\n",
       "      <td>6/20/2016 18:26:14</td>\n",
       "      <td>478.0</td>\n",
       "      <td>11 Ave &amp; W 41 St</td>\n",
       "      <td>40.760301</td>\n",
       "      <td>-73.998842</td>\n",
       "      <td>151.0</td>\n",
       "      <td>Cleveland Pl &amp; Spring St</td>\n",
       "      <td>40.722104</td>\n",
       "      <td>-73.997249</td>\n",
       "      <td>23606.0</td>\n",
       "      <td>Customer</td>\n",
       "      <td>NaN</td>\n",
       "      <td>0.0</td>\n",
       "    </tr>\n",
       "    <tr>\n",
       "      <th>1755</th>\n",
       "      <td>1398</td>\n",
       "      <td>4/17/2016 14:01:02</td>\n",
       "      <td>4/17/2016 14:24:20</td>\n",
       "      <td>408.0</td>\n",
       "      <td>Market St &amp; Cherry St</td>\n",
       "      <td>40.710762</td>\n",
       "      <td>-73.994004</td>\n",
       "      <td>224.0</td>\n",
       "      <td>Spruce St &amp; Nassau St</td>\n",
       "      <td>40.711464</td>\n",
       "      <td>-74.005524</td>\n",
       "      <td>16753.0</td>\n",
       "      <td>Customer</td>\n",
       "      <td>NaN</td>\n",
       "      <td>0.0</td>\n",
       "    </tr>\n",
       "    <tr>\n",
       "      <th>1351</th>\n",
       "      <td>2526</td>\n",
       "      <td>3/2/2016 15:37:06</td>\n",
       "      <td>3/2/2016 16:19:13</td>\n",
       "      <td>2006.0</td>\n",
       "      <td>Central Park S &amp; 6 Ave</td>\n",
       "      <td>40.765909</td>\n",
       "      <td>-73.976342</td>\n",
       "      <td>3143.0</td>\n",
       "      <td>5 Ave &amp; E 78 St</td>\n",
       "      <td>40.776829</td>\n",
       "      <td>-73.963888</td>\n",
       "      <td>23274.0</td>\n",
       "      <td>Customer</td>\n",
       "      <td>NaN</td>\n",
       "      <td>0.0</td>\n",
       "    </tr>\n",
       "  </tbody>\n",
       "</table>\n",
       "</div>"
      ],
      "text/plain": [
       "      tripduration           starttime            stoptime  start station id  \\\n",
       "2137          1900  5/19/2016 09:24:05  5/19/2016 09:55:45             486.0   \n",
       "1662          1656  4/10/2016 10:02:02  4/10/2016 10:29:38            3100.0   \n",
       "2195           622  5/17/2016 15:31:34  5/17/2016 15:41:57             367.0   \n",
       "2082           908  5/21/2016 12:51:28  5/21/2016 13:06:37             237.0   \n",
       "1471          1365  3/25/2016 18:22:56  3/25/2016 18:45:42             343.0   \n",
       "2224          1349   5/9/2016 11:46:56   5/9/2016 12:09:26             285.0   \n",
       "1163           504   3/5/2016 14:16:07   3/5/2016 14:24:32             392.0   \n",
       "2926          5447  6/20/2016 16:55:26  6/20/2016 18:26:14             478.0   \n",
       "1755          1398  4/17/2016 14:01:02  4/17/2016 14:24:20             408.0   \n",
       "1351          2526   3/2/2016 15:37:06   3/2/2016 16:19:13            2006.0   \n",
       "\n",
       "              start station name  start station latitude  \\\n",
       "2137          Broadway & W 29 St               40.746201   \n",
       "1662      Nassau Ave & Newell St               40.724813   \n",
       "2195     E 53 St & Lexington Ave               40.758281   \n",
       "2082             E 11 St & 2 Ave               40.730473   \n",
       "1471  Clinton Ave & Flushing Ave               40.697940   \n",
       "2224          Broadway & E 14 St               40.734546   \n",
       "1163            Jay St & Tech Pl               40.695065   \n",
       "2926            11 Ave & W 41 St               40.760301   \n",
       "1755       Market St & Cherry St               40.710762   \n",
       "1351      Central Park S & 6 Ave               40.765909   \n",
       "\n",
       "      start station longitude  end station id             end station name  \\\n",
       "2137               -73.988557          3145.0           E 84 St & Park Ave   \n",
       "1662               -73.947526           241.0  DeKalb Ave & S Portland Ave   \n",
       "2195               -73.970694           352.0              W 56 St & 6 Ave   \n",
       "2082               -73.986724           519.0        Pershing Square North   \n",
       "1471               -73.969868           217.0                Old Fulton St   \n",
       "2224               -73.990741           296.0         Division St & Bowery   \n",
       "1163               -73.987167           310.0          State St & Smith St   \n",
       "2926               -73.998842           151.0     Cleveland Pl & Spring St   \n",
       "1755               -73.994004           224.0        Spruce St & Nassau St   \n",
       "1351               -73.976342          3143.0              5 Ave & E 78 St   \n",
       "\n",
       "      end station latitude  end station longitude   bikeid  usertype  \\\n",
       "2137             40.778627             -73.957721  15989.0  Customer   \n",
       "1662             40.689810             -73.974931  15774.0  Customer   \n",
       "2195             40.763406             -73.977225  21438.0  Customer   \n",
       "2082             40.751873             -73.977706  18259.0  Customer   \n",
       "1471             40.702772             -73.993836  24143.0  Customer   \n",
       "2224             40.714131             -73.997047  15441.0  Customer   \n",
       "1163             40.689269             -73.989129  24102.0  Customer   \n",
       "2926             40.722104             -73.997249  23606.0  Customer   \n",
       "1755             40.711464             -74.005524  16753.0  Customer   \n",
       "1351             40.776829             -73.963888  23274.0  Customer   \n",
       "\n",
       "      birth year  gender  \n",
       "2137         NaN     0.0  \n",
       "1662         NaN     0.0  \n",
       "2195         NaN     0.0  \n",
       "2082         NaN     0.0  \n",
       "1471         NaN     0.0  \n",
       "2224         NaN     0.0  \n",
       "1163         NaN     0.0  \n",
       "2926         NaN     0.0  \n",
       "1755         NaN     0.0  \n",
       "1351         NaN     0.0  "
      ]
     },
     "execution_count": 17,
     "metadata": {},
     "output_type": "execute_result"
    }
   ],
   "source": [
    "bikeshare_df #original bike rides dataset\n",
    "original_weather_df #original weather dataset\n",
    "\n",
    "bikeshare_df.sample(n=30)\n",
    "(bikeshare_df['usertype'] == 'Customer').sum()\n",
    "bikeshare_df[bikeshare_df['usertype'] == 'Customer'].sample(n=10)\n"
   ]
  },
  {
   "cell_type": "markdown",
   "metadata": {
    "id": "9UejDWrNMW4a"
   },
   "source": [
    "Instead of dropping the null values which were found in the birth year column\n",
    "cancel the null values dropping process\n",
    " this was the one at first --> bikeshare = bikeshare.dropna() \n",
    "Instead the whole column is dropped"
   ]
  },
  {
   "cell_type": "code",
   "execution_count": 18,
   "metadata": {
    "id": "oUBee-LPytkv"
   },
   "outputs": [
    {
     "data": {
      "text/plain": [
       "tripduration               0\n",
       "starttime                  0\n",
       "stoptime                   0\n",
       "start station id           0\n",
       "start station name         0\n",
       "start station latitude     0\n",
       "start station longitude    0\n",
       "end station id             0\n",
       "end station name           0\n",
       "end station latitude       0\n",
       "end station longitude      0\n",
       "bikeid                     0\n",
       "usertype                   0\n",
       "gender                     0\n",
       "dtype: int64"
      ]
     },
     "execution_count": 18,
     "metadata": {},
     "output_type": "execute_result"
    }
   ],
   "source": [
    "bikeshare.drop(columns='birth year', inplace=True)\n",
    "bikeshare.isnull().sum()"
   ]
  },
  {
   "cell_type": "markdown",
   "metadata": {},
   "source": [
    "Justification: By removing the birth year, the dataset is now clean with no null values, and also we made sure that all other attributes are not affected especially the user types. "
   ]
  },
  {
   "cell_type": "code",
   "execution_count": 19,
   "metadata": {
    "id": "ionB2sRaMUmY"
   },
   "outputs": [
    {
     "name": "stdout",
     "output_type": "stream",
     "text": [
      "\n",
      " tripduration                 int64\n",
      "starttime                   object\n",
      "stoptime                    object\n",
      "start station id           float64\n",
      "start station name          object\n",
      "start station latitude     float64\n",
      "start station longitude    float64\n",
      "end station id             float64\n",
      "end station name            object\n",
      "end station latitude       float64\n",
      "end station longitude      float64\n",
      "bikeid                     float64\n",
      "usertype                    object\n",
      "gender                     float64\n",
      "dtype: object\n"
     ]
    },
    {
     "data": {
      "text/html": [
       "<div>\n",
       "<style scoped>\n",
       "    .dataframe tbody tr th:only-of-type {\n",
       "        vertical-align: middle;\n",
       "    }\n",
       "\n",
       "    .dataframe tbody tr th {\n",
       "        vertical-align: top;\n",
       "    }\n",
       "\n",
       "    .dataframe thead th {\n",
       "        text-align: right;\n",
       "    }\n",
       "</style>\n",
       "<table border=\"1\" class=\"dataframe\">\n",
       "  <thead>\n",
       "    <tr style=\"text-align: right;\">\n",
       "      <th></th>\n",
       "      <th>tripduration</th>\n",
       "      <th>starttime</th>\n",
       "      <th>stoptime</th>\n",
       "      <th>start station id</th>\n",
       "      <th>start station name</th>\n",
       "      <th>start station latitude</th>\n",
       "      <th>start station longitude</th>\n",
       "      <th>end station id</th>\n",
       "      <th>end station name</th>\n",
       "      <th>end station latitude</th>\n",
       "      <th>end station longitude</th>\n",
       "      <th>bikeid</th>\n",
       "      <th>usertype</th>\n",
       "      <th>gender</th>\n",
       "    </tr>\n",
       "  </thead>\n",
       "  <tbody>\n",
       "    <tr>\n",
       "      <th>1150</th>\n",
       "      <td>265</td>\n",
       "      <td>3/18/2016 07:27:10</td>\n",
       "      <td>3/18/2016 07:31:36</td>\n",
       "      <td>363.0</td>\n",
       "      <td>West Thames St</td>\n",
       "      <td>40.708347</td>\n",
       "      <td>-74.017134</td>\n",
       "      <td>534.0</td>\n",
       "      <td>Water - Whitehall Plaza</td>\n",
       "      <td>40.702551</td>\n",
       "      <td>-74.012723</td>\n",
       "      <td>19946.0</td>\n",
       "      <td>Subscriber</td>\n",
       "      <td>1.0</td>\n",
       "    </tr>\n",
       "    <tr>\n",
       "      <th>2605</th>\n",
       "      <td>670</td>\n",
       "      <td>6/8/2016 08:42:33</td>\n",
       "      <td>6/8/2016 08:53:43</td>\n",
       "      <td>2012.0</td>\n",
       "      <td>E 27 St &amp; 1 Ave</td>\n",
       "      <td>40.739445</td>\n",
       "      <td>-73.976806</td>\n",
       "      <td>490.0</td>\n",
       "      <td>8 Ave &amp; W 33 St</td>\n",
       "      <td>40.751551</td>\n",
       "      <td>-73.993934</td>\n",
       "      <td>24256.0</td>\n",
       "      <td>Subscriber</td>\n",
       "      <td>1.0</td>\n",
       "    </tr>\n",
       "    <tr>\n",
       "      <th>2947</th>\n",
       "      <td>297</td>\n",
       "      <td>6/5/2016 09:13:09</td>\n",
       "      <td>6/5/2016 09:18:06</td>\n",
       "      <td>161.0</td>\n",
       "      <td>LaGuardia Pl &amp; W 3 St</td>\n",
       "      <td>40.729170</td>\n",
       "      <td>-73.998102</td>\n",
       "      <td>2010.0</td>\n",
       "      <td>Grand St &amp; Greene St</td>\n",
       "      <td>40.721655</td>\n",
       "      <td>-74.002347</td>\n",
       "      <td>18362.0</td>\n",
       "      <td>Subscriber</td>\n",
       "      <td>1.0</td>\n",
       "    </tr>\n",
       "    <tr>\n",
       "      <th>235</th>\n",
       "      <td>1026</td>\n",
       "      <td>1/20/2016 11:57:55</td>\n",
       "      <td>1/20/2016 12:15:01</td>\n",
       "      <td>504.0</td>\n",
       "      <td>1 Ave &amp; E 15 St</td>\n",
       "      <td>40.732219</td>\n",
       "      <td>-73.981656</td>\n",
       "      <td>3231.0</td>\n",
       "      <td>E 67 St &amp; Park Ave</td>\n",
       "      <td>40.767801</td>\n",
       "      <td>-73.965921</td>\n",
       "      <td>23318.0</td>\n",
       "      <td>Subscriber</td>\n",
       "      <td>1.0</td>\n",
       "    </tr>\n",
       "    <tr>\n",
       "      <th>428</th>\n",
       "      <td>408</td>\n",
       "      <td>1/8/2016 17:32:07</td>\n",
       "      <td>1/8/2016 17:38:55</td>\n",
       "      <td>345.0</td>\n",
       "      <td>W 13 St &amp; 6 Ave</td>\n",
       "      <td>40.736494</td>\n",
       "      <td>-73.997044</td>\n",
       "      <td>358.0</td>\n",
       "      <td>Christopher St &amp; Greenwich St</td>\n",
       "      <td>40.732916</td>\n",
       "      <td>-74.007114</td>\n",
       "      <td>16223.0</td>\n",
       "      <td>Subscriber</td>\n",
       "      <td>1.0</td>\n",
       "    </tr>\n",
       "    <tr>\n",
       "      <th>2390</th>\n",
       "      <td>745</td>\n",
       "      <td>5/24/2016 10:13:03</td>\n",
       "      <td>5/24/2016 10:25:28</td>\n",
       "      <td>3064.0</td>\n",
       "      <td>Myrtle Ave &amp; Lewis Ave</td>\n",
       "      <td>40.696820</td>\n",
       "      <td>-73.937569</td>\n",
       "      <td>399.0</td>\n",
       "      <td>Lafayette Ave &amp; St James Pl</td>\n",
       "      <td>40.688515</td>\n",
       "      <td>-73.964763</td>\n",
       "      <td>16890.0</td>\n",
       "      <td>Subscriber</td>\n",
       "      <td>1.0</td>\n",
       "    </tr>\n",
       "    <tr>\n",
       "      <th>126</th>\n",
       "      <td>1865</td>\n",
       "      <td>1/8/2016 17:28:17</td>\n",
       "      <td>1/8/2016 17:59:22</td>\n",
       "      <td>352.0</td>\n",
       "      <td>W 56 St &amp; 6 Ave</td>\n",
       "      <td>40.763406</td>\n",
       "      <td>-73.977225</td>\n",
       "      <td>473.0</td>\n",
       "      <td>Rivington St &amp; Chrystie St</td>\n",
       "      <td>40.721101</td>\n",
       "      <td>-73.991925</td>\n",
       "      <td>17325.0</td>\n",
       "      <td>Subscriber</td>\n",
       "      <td>2.0</td>\n",
       "    </tr>\n",
       "    <tr>\n",
       "      <th>169</th>\n",
       "      <td>94</td>\n",
       "      <td>1/31/2016 19:26:13</td>\n",
       "      <td>1/31/2016 19:27:47</td>\n",
       "      <td>449.0</td>\n",
       "      <td>W 52 St &amp; 9 Ave</td>\n",
       "      <td>40.764618</td>\n",
       "      <td>-73.987895</td>\n",
       "      <td>447.0</td>\n",
       "      <td>8 Ave &amp; W 52 St</td>\n",
       "      <td>40.763707</td>\n",
       "      <td>-73.985162</td>\n",
       "      <td>22101.0</td>\n",
       "      <td>Subscriber</td>\n",
       "      <td>1.0</td>\n",
       "    </tr>\n",
       "    <tr>\n",
       "      <th>2173</th>\n",
       "      <td>270</td>\n",
       "      <td>5/24/2016 20:15:01</td>\n",
       "      <td>5/24/2016 20:19:31</td>\n",
       "      <td>327.0</td>\n",
       "      <td>Vesey Pl &amp; River Terrace</td>\n",
       "      <td>40.715338</td>\n",
       "      <td>-74.016584</td>\n",
       "      <td>363.0</td>\n",
       "      <td>West Thames St</td>\n",
       "      <td>40.708347</td>\n",
       "      <td>-74.017134</td>\n",
       "      <td>23386.0</td>\n",
       "      <td>Subscriber</td>\n",
       "      <td>1.0</td>\n",
       "    </tr>\n",
       "    <tr>\n",
       "      <th>663</th>\n",
       "      <td>720</td>\n",
       "      <td>2/10/2016 19:06:23</td>\n",
       "      <td>2/10/2016 19:18:24</td>\n",
       "      <td>2022.0</td>\n",
       "      <td>E 60 St &amp; York Ave</td>\n",
       "      <td>40.759107</td>\n",
       "      <td>-73.959223</td>\n",
       "      <td>528.0</td>\n",
       "      <td>2 Ave &amp; E 31 St</td>\n",
       "      <td>40.742909</td>\n",
       "      <td>-73.977061</td>\n",
       "      <td>16330.0</td>\n",
       "      <td>Subscriber</td>\n",
       "      <td>1.0</td>\n",
       "    </tr>\n",
       "  </tbody>\n",
       "</table>\n",
       "</div>"
      ],
      "text/plain": [
       "      tripduration           starttime            stoptime  start station id  \\\n",
       "1150           265  3/18/2016 07:27:10  3/18/2016 07:31:36             363.0   \n",
       "2605           670   6/8/2016 08:42:33   6/8/2016 08:53:43            2012.0   \n",
       "2947           297   6/5/2016 09:13:09   6/5/2016 09:18:06             161.0   \n",
       "235           1026  1/20/2016 11:57:55  1/20/2016 12:15:01             504.0   \n",
       "428            408   1/8/2016 17:32:07   1/8/2016 17:38:55             345.0   \n",
       "2390           745  5/24/2016 10:13:03  5/24/2016 10:25:28            3064.0   \n",
       "126           1865   1/8/2016 17:28:17   1/8/2016 17:59:22             352.0   \n",
       "169             94  1/31/2016 19:26:13  1/31/2016 19:27:47             449.0   \n",
       "2173           270  5/24/2016 20:15:01  5/24/2016 20:19:31             327.0   \n",
       "663            720  2/10/2016 19:06:23  2/10/2016 19:18:24            2022.0   \n",
       "\n",
       "            start station name  start station latitude  \\\n",
       "1150            West Thames St               40.708347   \n",
       "2605           E 27 St & 1 Ave               40.739445   \n",
       "2947     LaGuardia Pl & W 3 St               40.729170   \n",
       "235            1 Ave & E 15 St               40.732219   \n",
       "428            W 13 St & 6 Ave               40.736494   \n",
       "2390    Myrtle Ave & Lewis Ave               40.696820   \n",
       "126            W 56 St & 6 Ave               40.763406   \n",
       "169            W 52 St & 9 Ave               40.764618   \n",
       "2173  Vesey Pl & River Terrace               40.715338   \n",
       "663         E 60 St & York Ave               40.759107   \n",
       "\n",
       "      start station longitude  end station id               end station name  \\\n",
       "1150               -74.017134           534.0        Water - Whitehall Plaza   \n",
       "2605               -73.976806           490.0                8 Ave & W 33 St   \n",
       "2947               -73.998102          2010.0           Grand St & Greene St   \n",
       "235                -73.981656          3231.0             E 67 St & Park Ave   \n",
       "428                -73.997044           358.0  Christopher St & Greenwich St   \n",
       "2390               -73.937569           399.0    Lafayette Ave & St James Pl   \n",
       "126                -73.977225           473.0     Rivington St & Chrystie St   \n",
       "169                -73.987895           447.0                8 Ave & W 52 St   \n",
       "2173               -74.016584           363.0                 West Thames St   \n",
       "663                -73.959223           528.0                2 Ave & E 31 St   \n",
       "\n",
       "      end station latitude  end station longitude   bikeid    usertype  gender  \n",
       "1150             40.702551             -74.012723  19946.0  Subscriber     1.0  \n",
       "2605             40.751551             -73.993934  24256.0  Subscriber     1.0  \n",
       "2947             40.721655             -74.002347  18362.0  Subscriber     1.0  \n",
       "235              40.767801             -73.965921  23318.0  Subscriber     1.0  \n",
       "428              40.732916             -74.007114  16223.0  Subscriber     1.0  \n",
       "2390             40.688515             -73.964763  16890.0  Subscriber     1.0  \n",
       "126              40.721101             -73.991925  17325.0  Subscriber     2.0  \n",
       "169              40.763707             -73.985162  22101.0  Subscriber     1.0  \n",
       "2173             40.708347             -74.017134  23386.0  Subscriber     1.0  \n",
       "663              40.742909             -73.977061  16330.0  Subscriber     1.0  "
      ]
     },
     "execution_count": 19,
     "metadata": {},
     "output_type": "execute_result"
    }
   ],
   "source": [
    "print(\"\\n\", bikeshare.dtypes)\n",
    "\n",
    "bikeshare.sample(n=10)"
   ]
  },
  {
   "cell_type": "code",
   "execution_count": 27,
   "metadata": {},
   "outputs": [
    {
     "data": {
      "text/plain": [
       "2024    Subscriber\n",
       "2490      Customer\n",
       "685     Subscriber\n",
       "1455    Subscriber\n",
       "1288    Subscriber\n",
       "1851    Subscriber\n",
       "1207    Subscriber\n",
       "1526    Subscriber\n",
       "2541      Customer\n",
       "828     Subscriber\n",
       "Name: usertype, dtype: object"
      ]
     },
     "execution_count": 27,
     "metadata": {},
     "output_type": "execute_result"
    }
   ],
   "source": [
    "bikeshare['usertype'].sample(n=10)"
   ]
  },
  {
   "cell_type": "code",
   "execution_count": 28,
   "metadata": {},
   "outputs": [
    {
     "name": "stdout",
     "output_type": "stream",
     "text": [
      "Number of Customers user types:  299\n",
      "\n",
      "Number of Subscribers user types:  2701\n"
     ]
    }
   ],
   "source": [
    "#the number of Customers and subscribers are studied\n",
    "#Customers are much less than subscribers\n",
    "print (\"Number of Customers user types: \", (bikeshare['usertype'] == 'Customer').sum())\n",
    "print (\"\\nNumber of Subscribers user types: \", (bikeshare['usertype'] == 'Subscriber').sum())"
   ]
  },
  {
   "cell_type": "markdown",
   "metadata": {
    "id": "n_DAUbJrymBL"
   },
   "source": [
    "### **Quality Issue 2: FILL IN**"
   ]
  },
  {
   "cell_type": "code",
   "execution_count": 29,
   "metadata": {},
   "outputs": [],
   "source": [
    "filtered_weather_df.drop(columns=['TAVG', 'TMAX', 'TMIN', 'SNWD'], inplace=True)"
   ]
  },
  {
   "cell_type": "code",
   "execution_count": 30,
   "metadata": {},
   "outputs": [
    {
     "name": "stderr",
     "output_type": "stream",
     "text": [
      "/tmp/ipykernel_97/141228748.py:1: FutureWarning: A value is trying to be set on a copy of a DataFrame or Series through chained assignment using an inplace method.\n",
      "The behavior will change in pandas 3.0. This inplace method will never work because the intermediate object on which we are setting values always behaves as a copy.\n",
      "\n",
      "For example, when doing 'df[col].method(value, inplace=True)', try using 'df.method({col: value}, inplace=True)' or df[col] = df[col].method(value) instead, to perform the operation inplace on the original object.\n",
      "\n",
      "\n",
      "  filtered_weather_df['SNOW'].replace(-9999.0, np.nan, inplace=True)\n",
      "/tmp/ipykernel_97/141228748.py:3: FutureWarning: A value is trying to be set on a copy of a DataFrame or Series through chained assignment using an inplace method.\n",
      "The behavior will change in pandas 3.0. This inplace method will never work because the intermediate object on which we are setting values always behaves as a copy.\n",
      "\n",
      "For example, when doing 'df[col].method(value, inplace=True)', try using 'df.method({col: value}, inplace=True)' or df[col] = df[col].method(value) instead, to perform the operation inplace on the original object.\n",
      "\n",
      "\n",
      "  filtered_weather_df['PRCP'].replace(-9999.0, np.nan, inplace=True)\n"
     ]
    }
   ],
   "source": [
    "filtered_weather_df['SNOW'].replace(-9999.0, np.nan, inplace=True)\n",
    "filtered_weather_df = filtered_weather_df.dropna(subset=['SNOW'])\n",
    "filtered_weather_df['PRCP'].replace(-9999.0, np.nan, inplace=True)\n",
    "filtered_weather_df = filtered_weather_df.dropna(subset=['PRCP'])"
   ]
  },
  {
   "cell_type": "code",
   "execution_count": 31,
   "metadata": {},
   "outputs": [
    {
     "name": "stdout",
     "output_type": "stream",
     "text": [
      "Null Snow values:  0\n",
      "\n",
      "Null percipitation values:  0\n",
      "<class 'pandas.core.frame.DataFrame'>\n",
      "Index: 6772 entries, 0 to 30792\n",
      "Data columns (total 5 columns):\n",
      " #   Column     Non-Null Count  Dtype         \n",
      "---  ------     --------------  -----         \n",
      " 0   DATE       6772 non-null   datetime64[ns]\n",
      " 1   LATITUDE   6772 non-null   float64       \n",
      " 2   LONGITUDE  6772 non-null   float64       \n",
      " 3   SNOW       6772 non-null   float64       \n",
      " 4   PRCP       6772 non-null   float64       \n",
      "dtypes: datetime64[ns](1), float64(4)\n",
      "memory usage: 317.4 KB\n"
     ]
    }
   ],
   "source": [
    "print(\"Null Snow values: \", filtered_weather_df['SNOW'].isnull().sum())\n",
    "print(\"\\nNull percipitation values: \", filtered_weather_df['SNOW'].isnull().sum())\n",
    "filtered_weather_df.info()"
   ]
  },
  {
   "cell_type": "markdown",
   "metadata": {},
   "source": [
    "Here the null values which were seen as an unrealistic number -9999 were removed but keeping in mind the affect of removing each column. "
   ]
  },
  {
   "cell_type": "markdown",
   "metadata": {},
   "source": [
    "### **Tidiness Issue 1: FILL IN**"
   ]
  },
  {
   "cell_type": "code",
   "execution_count": 32,
   "metadata": {
    "id": "5Yfb-Yu5MTuE"
   },
   "outputs": [],
   "source": [
    "bikeshare['starttime'] = pd.to_datetime(bikeshare['starttime'], format='%m/%d/%Y %H:%M:%S')\n",
    "bikeshare['stoptime'] = pd.to_datetime(bikeshare['stoptime'], format='%m/%d/%Y %H:%M:%S')\n",
    "\n",
    "#bikeshare['birth year'] = bikeshare['birth year'].astype(int) CANCELLED"
   ]
  },
  {
   "cell_type": "code",
   "execution_count": 33,
   "metadata": {},
   "outputs": [
    {
     "data": {
      "text/plain": [
       "tripduration                        int64\n",
       "starttime                  datetime64[ns]\n",
       "stoptime                   datetime64[ns]\n",
       "start station id                  float64\n",
       "start station name                 object\n",
       "start station latitude            float64\n",
       "start station longitude           float64\n",
       "end station id                    float64\n",
       "end station name                   object\n",
       "end station latitude              float64\n",
       "end station longitude             float64\n",
       "bikeid                            float64\n",
       "usertype                           object\n",
       "gender                            float64\n",
       "dtype: object"
      ]
     },
     "execution_count": 33,
     "metadata": {},
     "output_type": "execute_result"
    }
   ],
   "source": [
    "bikeshare.dtypes"
   ]
  },
  {
   "cell_type": "markdown",
   "metadata": {},
   "source": [
    "Justification: here the data types are corrected and consistent with the needed analysis"
   ]
  },
  {
   "cell_type": "markdown",
   "metadata": {
    "id": "bIUrrfSNyOPR"
   },
   "source": [
    "### **Tidiness Issue 2: FILL IN**\n",
    "\n",
    "In dataset bikeshare in columns starttime and stoptime where the date and the time are both within the same columns. This information can be seperated into two columns."
   ]
  },
  {
   "cell_type": "code",
   "execution_count": 34,
   "metadata": {
    "id": "fib0zAm333bn"
   },
   "outputs": [
    {
     "name": "stdout",
     "output_type": "stream",
     "text": [
      "Date Range of Filtered Data:\n",
      "Earliest Start Date:  2016-01-01\n",
      "Latest Stop Date:  2016-06-21\n"
     ]
    }
   ],
   "source": [
    "#Splitting both columns each into two columns indicating the start date, start time, stop date, and stop time.\n",
    "# Extract the date and time parts into separate columns\n",
    "bikeshare['start_date'] = bikeshare['starttime'].dt.date\n",
    "bikeshare['start_time'] = bikeshare['starttime'].dt.time\n",
    "bikeshare['stop_date'] = bikeshare['stoptime'].dt.date\n",
    "bikeshare['stop_time'] = bikeshare['stoptime'].dt.time\n",
    "\n",
    "# Define the start and end dates for filtering\n",
    "start_date = pd.to_datetime('2016-01-01').date()\n",
    "end_date = pd.to_datetime('2016-06-30').date()\n",
    "\n",
    "# Filter the DataFrame for the date range\n",
    "filtered_bikeshare = bikeshare[\n",
    "    (bikeshare['start_date'] >= start_date) & \n",
    "    (bikeshare['start_date'] <= end_date)\n",
    "]\n",
    "\n",
    "# Ensure that stoptime is within the same range\n",
    "filtered_bikeshare = filtered_bikeshare[\n",
    "    (filtered_bikeshare['stop_date'] >= start_date) & \n",
    "    (filtered_bikeshare['stop_date'] <= end_date)\n",
    "]\n",
    "\n",
    "# Drop the original starttime and stoptime columns\n",
    "filtered_bikeshare.drop(['starttime', 'stoptime'], axis=1, inplace=True)\n",
    "\n",
    "# Check if all rows are within the desired date range\n",
    "print(\"Date Range of Filtered Data:\")\n",
    "print(\"Earliest Start Date: \", filtered_bikeshare['start_date'].min())\n",
    "print(\"Latest Stop Date: \", filtered_bikeshare['stop_date'].max())\n",
    "\n",
    "# Optionally, save the filtered dataset\n",
    "filtered_file_path = 'filtered_citibike_Jan_Jun_2016.csv'\n",
    "filtered_bikeshare.to_csv(filtered_file_path, index=False)"
   ]
  },
  {
   "cell_type": "code",
   "execution_count": 35,
   "metadata": {
    "id": "yhrnUGY_Nk8B"
   },
   "outputs": [
    {
     "name": "stdout",
     "output_type": "stream",
     "text": [
      "   tripduration  start station id           start station name  \\\n",
      "0           511             449.0              W 52 St & 9 Ave   \n",
      "1           208             236.0          St Marks Pl & 2 Ave   \n",
      "2          1047             449.0              W 52 St & 9 Ave   \n",
      "3           413             242.0   Carlton Ave & Flushing Ave   \n",
      "4          1946             241.0  DeKalb Ave & S Portland Ave   \n",
      "5           876             510.0              W 51 St & 6 Ave   \n",
      "6           430             523.0              W 38 St & 8 Ave   \n",
      "7           592            3002.0   South End Ave & Liberty St   \n",
      "8           580             168.0              W 18 St & 6 Ave   \n",
      "9           734             401.0      Allen St & Rivington St   \n",
      "\n",
      "   start station latitude  start station longitude  end station id  \\\n",
      "0               40.764618               -73.987895           446.0   \n",
      "1               40.728419               -73.987140           301.0   \n",
      "2               40.764618               -73.987895           487.0   \n",
      "3               40.697787               -73.973736           397.0   \n",
      "4               40.689810               -73.974931          3002.0   \n",
      "5               40.760660               -73.980420           528.0   \n",
      "6               40.754666               -73.991382           517.0   \n",
      "7               40.711512               -74.015756           427.0   \n",
      "8               40.739713               -73.994564           523.0   \n",
      "9               40.720196               -73.989978           346.0   \n",
      "\n",
      "             end station name  end station latitude  end station longitude  \\\n",
      "0             W 24 St & 7 Ave             40.744876             -73.995299   \n",
      "1           E 2 St & Avenue B             40.722174             -73.983688   \n",
      "2         E 20 St & FDR Drive             40.733143             -73.975739   \n",
      "3    Fulton St & Clermont Ave             40.684157             -73.969223   \n",
      "4  South End Ave & Liberty St             40.711512             -74.015756   \n",
      "5             2 Ave & E 31 St             40.742909             -73.977061   \n",
      "6       Pershing Square South             40.751581             -73.977910   \n",
      "7         Bus Slip & State St             40.701907             -74.013942   \n",
      "8             W 38 St & 8 Ave             40.754666             -73.991382   \n",
      "9         Bank St & Hudson St             40.736529             -74.006180   \n",
      "\n",
      "    bikeid    usertype  gender  start_date start_time   stop_date stop_time  \n",
      "0  24138.0  Subscriber     1.0  2016-01-30   10:08:53  2016-01-30  10:17:25  \n",
      "1  22623.0  Subscriber     1.0  2016-01-09   12:00:13  2016-01-09  12:03:41  \n",
      "2  20346.0  Subscriber     1.0  2016-01-09   12:51:35  2016-01-09  13:09:03  \n",
      "3  17279.0  Subscriber     1.0  2016-01-03   21:26:44  2016-01-03  21:33:38  \n",
      "4  21162.0  Subscriber     2.0  2016-01-06   19:43:00  2016-01-06  20:15:26  \n",
      "5  15974.0  Subscriber     1.0  2016-01-15   08:55:53  2016-01-15  09:10:30  \n",
      "6  15741.0  Subscriber     1.0  2016-01-11   18:14:59  2016-01-11  18:22:10  \n",
      "7  22399.0  Subscriber     1.0  2016-01-06   08:37:19  2016-01-06  08:47:11  \n",
      "8  18123.0  Subscriber     1.0  2016-01-20   18:50:09  2016-01-20  18:59:49  \n",
      "9  22753.0  Subscriber     2.0  2016-01-07   15:33:58  2016-01-07  15:46:12  \n",
      "<class 'pandas.core.frame.DataFrame'>\n",
      "RangeIndex: 3000 entries, 0 to 2999\n",
      "Data columns (total 16 columns):\n",
      " #   Column                   Non-Null Count  Dtype  \n",
      "---  ------                   --------------  -----  \n",
      " 0   tripduration             3000 non-null   int64  \n",
      " 1   start station id         3000 non-null   float64\n",
      " 2   start station name       3000 non-null   object \n",
      " 3   start station latitude   3000 non-null   float64\n",
      " 4   start station longitude  3000 non-null   float64\n",
      " 5   end station id           3000 non-null   float64\n",
      " 6   end station name         3000 non-null   object \n",
      " 7   end station latitude     3000 non-null   float64\n",
      " 8   end station longitude    3000 non-null   float64\n",
      " 9   bikeid                   3000 non-null   float64\n",
      " 10  usertype                 3000 non-null   object \n",
      " 11  gender                   3000 non-null   float64\n",
      " 12  start_date               3000 non-null   object \n",
      " 13  start_time               3000 non-null   object \n",
      " 14  stop_date                3000 non-null   object \n",
      " 15  stop_time                3000 non-null   object \n",
      "dtypes: float64(8), int64(1), object(7)\n",
      "memory usage: 375.1+ KB\n"
     ]
    }
   ],
   "source": [
    "#FILL IN - Validate the cleaning was successful\n",
    "# Display the filtered DataFrame to verify\n",
    "print(filtered_bikeshare.head(10))\n",
    "\n",
    "filtered_bikeshare.dtypes\n",
    "filtered_bikeshare.info()"
   ]
  },
  {
   "cell_type": "markdown",
   "metadata": {},
   "source": [
    "Justification: We can see that the starttime and stoptime are all splitted into: start date and time, and stop date and time and then the previous columns are dropped. As well as the dataset is made sure to be within the month range period needed for the study analysis. "
   ]
  },
  {
   "cell_type": "markdown",
   "metadata": {
    "id": "o51Bt8kwyTzk"
   },
   "source": [
    "### **Tidiness Issue 3: FILL IN**"
   ]
  },
  {
   "cell_type": "code",
   "execution_count": 36,
   "metadata": {
    "id": "7zW8O5yx4Y9O"
   },
   "outputs": [],
   "source": [
    "#the columns in the dataset are renamed in the same standarized format\n",
    "filtered_bikeshare.rename(columns={\n",
    "    'tripduration': 'trip_duration',\n",
    "    'start station id': 'start_station_id', \n",
    "    'start station name': 'start_station_name', \n",
    "    'start station latitude': 'start_station_latitude', \n",
    "    'start station longitude': 'start_station_longitude', \n",
    "    'end station id': 'end_station_id', \n",
    "    'end station name': 'end_station_name', \n",
    "    'end station latitude': 'end_station_latitude', \n",
    "    'end station longitude': 'end_station_longitude', \n",
    "    'bikeid': 'bike_id', \n",
    "    'usertype': 'user_type', \n",
    "}, inplace=True)\n"
   ]
  },
  {
   "cell_type": "code",
   "execution_count": 37,
   "metadata": {
    "id": "q6I_Sr7lxXi5"
   },
   "outputs": [
    {
     "name": "stdout",
     "output_type": "stream",
     "text": [
      "Index(['trip_duration', 'start_station_id', 'start_station_name',\n",
      "       'start_station_latitude', 'start_station_longitude', 'end_station_id',\n",
      "       'end_station_name', 'end_station_latitude', 'end_station_longitude',\n",
      "       'bike_id', 'user_type', 'gender', 'start_date', 'start_time',\n",
      "       'stop_date', 'stop_time'],\n",
      "      dtype='object')\n"
     ]
    }
   ],
   "source": [
    "#we can validate\n",
    "print(filtered_bikeshare.columns)"
   ]
  },
  {
   "cell_type": "markdown",
   "metadata": {},
   "source": [
    "Justification: This is see from the columns names that each one if containing more than one word is separated by '_' to have the same format. "
   ]
  },
  {
   "cell_type": "markdown",
   "metadata": {},
   "source": [
    "### **Remove unnecessary variables and combine datasets**\n",
    "\n",
    "Depending on the datasets, you can also peform the combination before the cleaning steps."
   ]
  },
  {
   "cell_type": "code",
   "execution_count": 38,
   "metadata": {},
   "outputs": [],
   "source": [
    "columns_to_drop = [\n",
    "    'start_station_id', 'start_station_name', \n",
    "    'end_station_id', 'end_station_name', \n",
    "    'end_station_latitude', 'end_station_longitude', \n",
    "    'bike_id', 'gender', \n",
    "    'start_time', 'stop_date', 'stop_time'\n",
    "]\n",
    "filtered_bikeshare.drop(columns=columns_to_drop, inplace=True)\n",
    "\n",
    "\n",
    "filtered_bikeshare['DATE'] = pd.to_datetime(filtered_bikeshare['start_date'])\n",
    "filtered_weather_df['DATE'] = pd.to_datetime(filtered_weather_df['DATE'])\n",
    "\n",
    "# Drop the original 'start_date' column from the bikeshare dataset\n",
    "filtered_bikeshare = filtered_bikeshare.drop(columns=['start_date'])\n",
    "\n",
    "filtered_weather_df.rename(columns={\n",
    "    'LATITUDE': 'start_station_latitude',\n",
    "    'LONGITUDE': 'start_station_longitude'\n",
    "}, inplace=True)"
   ]
  },
  {
   "cell_type": "code",
   "execution_count": 39,
   "metadata": {},
   "outputs": [
    {
     "name": "stdout",
     "output_type": "stream",
     "text": [
      "        DATE  start_station_latitude  start_station_longitude  SNOW  PRCP\n",
      "0 2016-01-01                 41.0639                 -73.7722   0.0   0.0\n",
      "1 2016-01-02                 41.0639                 -73.7722   0.0   0.0\n",
      "2 2016-01-03                 41.0639                 -73.7722   0.0   0.0\n",
      "3 2016-01-04                 41.0639                 -73.7722   0.0   0.0\n",
      "4 2016-01-05                 41.0639                 -73.7722   0.0   0.0\n",
      "-------------------------------\n",
      "   trip_duration  start_station_latitude  start_station_longitude   user_type  \\\n",
      "0            511               40.764618               -73.987895  Subscriber   \n",
      "1            208               40.728419               -73.987140  Subscriber   \n",
      "2           1047               40.764618               -73.987895  Subscriber   \n",
      "3            413               40.697787               -73.973736  Subscriber   \n",
      "4           1946               40.689810               -73.974931  Subscriber   \n",
      "\n",
      "        DATE  \n",
      "0 2016-01-30  \n",
      "1 2016-01-09  \n",
      "2 2016-01-09  \n",
      "3 2016-01-03  \n",
      "4 2016-01-06  \n",
      "-------------------------------\n",
      "trip_duration                       int64\n",
      "start_station_latitude            float64\n",
      "start_station_longitude           float64\n",
      "user_type                          object\n",
      "DATE                       datetime64[ns]\n",
      "dtype: object\n",
      "-------------------------------\n",
      "trip_duration                       int64\n",
      "start_station_latitude            float64\n",
      "start_station_longitude           float64\n",
      "user_type                          object\n",
      "DATE                       datetime64[ns]\n",
      "dtype: object\n"
     ]
    }
   ],
   "source": [
    "print(filtered_weather_df.head())\n",
    "\n",
    "print(\"-------------------------------\")\n",
    "\n",
    "print(filtered_bikeshare.head())\n",
    "\n",
    "print(\"-------------------------------\")\n",
    "\n",
    "print(filtered_bikeshare.dtypes)\n",
    "\n",
    "print(\"-------------------------------\")\n",
    "\n",
    "print(filtered_bikeshare.dtypes)"
   ]
  },
  {
   "cell_type": "code",
   "execution_count": 40,
   "metadata": {},
   "outputs": [
    {
     "data": {
      "text/html": [
       "<div>\n",
       "<style scoped>\n",
       "    .dataframe tbody tr th:only-of-type {\n",
       "        vertical-align: middle;\n",
       "    }\n",
       "\n",
       "    .dataframe tbody tr th {\n",
       "        vertical-align: top;\n",
       "    }\n",
       "\n",
       "    .dataframe thead th {\n",
       "        text-align: right;\n",
       "    }\n",
       "</style>\n",
       "<table border=\"1\" class=\"dataframe\">\n",
       "  <thead>\n",
       "    <tr style=\"text-align: right;\">\n",
       "      <th></th>\n",
       "      <th>trip_duration</th>\n",
       "      <th>start_station_latitude_x</th>\n",
       "      <th>start_station_longitude_x</th>\n",
       "      <th>user_type</th>\n",
       "      <th>DATE</th>\n",
       "      <th>start_station_latitude_y</th>\n",
       "      <th>start_station_longitude_y</th>\n",
       "      <th>SNOW</th>\n",
       "      <th>PRCP</th>\n",
       "    </tr>\n",
       "  </thead>\n",
       "  <tbody>\n",
       "    <tr>\n",
       "      <th>102624</th>\n",
       "      <td>656</td>\n",
       "      <td>40.751581</td>\n",
       "      <td>-73.977910</td>\n",
       "      <td>Subscriber</td>\n",
       "      <td>2016-06-14</td>\n",
       "      <td>40.69450</td>\n",
       "      <td>-74.38980</td>\n",
       "      <td>0.0</td>\n",
       "      <td>0.00</td>\n",
       "    </tr>\n",
       "    <tr>\n",
       "      <th>27217</th>\n",
       "      <td>3043</td>\n",
       "      <td>40.712733</td>\n",
       "      <td>-74.004607</td>\n",
       "      <td>Customer</td>\n",
       "      <td>2016-02-29</td>\n",
       "      <td>40.74800</td>\n",
       "      <td>-74.15180</td>\n",
       "      <td>0.0</td>\n",
       "      <td>0.00</td>\n",
       "    </tr>\n",
       "    <tr>\n",
       "      <th>40893</th>\n",
       "      <td>976</td>\n",
       "      <td>40.714740</td>\n",
       "      <td>-74.009106</td>\n",
       "      <td>Subscriber</td>\n",
       "      <td>2016-02-11</td>\n",
       "      <td>40.74810</td>\n",
       "      <td>-74.15200</td>\n",
       "      <td>0.0</td>\n",
       "      <td>0.00</td>\n",
       "    </tr>\n",
       "    <tr>\n",
       "      <th>26133</th>\n",
       "      <td>639</td>\n",
       "      <td>40.739445</td>\n",
       "      <td>-73.976806</td>\n",
       "      <td>Subscriber</td>\n",
       "      <td>2016-02-09</td>\n",
       "      <td>40.84810</td>\n",
       "      <td>-74.00020</td>\n",
       "      <td>0.0</td>\n",
       "      <td>0.00</td>\n",
       "    </tr>\n",
       "    <tr>\n",
       "      <th>46085</th>\n",
       "      <td>900</td>\n",
       "      <td>40.688226</td>\n",
       "      <td>-73.979382</td>\n",
       "      <td>Subscriber</td>\n",
       "      <td>2016-03-05</td>\n",
       "      <td>40.79150</td>\n",
       "      <td>-74.13980</td>\n",
       "      <td>0.0</td>\n",
       "      <td>0.00</td>\n",
       "    </tr>\n",
       "    <tr>\n",
       "      <th>36767</th>\n",
       "      <td>627</td>\n",
       "      <td>40.732219</td>\n",
       "      <td>-73.981656</td>\n",
       "      <td>Subscriber</td>\n",
       "      <td>2016-02-21</td>\n",
       "      <td>40.72790</td>\n",
       "      <td>-73.43410</td>\n",
       "      <td>0.0</td>\n",
       "      <td>0.00</td>\n",
       "    </tr>\n",
       "    <tr>\n",
       "      <th>58531</th>\n",
       "      <td>615</td>\n",
       "      <td>40.757246</td>\n",
       "      <td>-73.978059</td>\n",
       "      <td>Subscriber</td>\n",
       "      <td>2016-03-20</td>\n",
       "      <td>40.95190</td>\n",
       "      <td>-74.15770</td>\n",
       "      <td>0.0</td>\n",
       "      <td>0.00</td>\n",
       "    </tr>\n",
       "    <tr>\n",
       "      <th>77563</th>\n",
       "      <td>473</td>\n",
       "      <td>40.732219</td>\n",
       "      <td>-73.981656</td>\n",
       "      <td>Subscriber</td>\n",
       "      <td>2016-04-16</td>\n",
       "      <td>40.90960</td>\n",
       "      <td>-74.41410</td>\n",
       "      <td>0.0</td>\n",
       "      <td>0.00</td>\n",
       "    </tr>\n",
       "    <tr>\n",
       "      <th>96832</th>\n",
       "      <td>570</td>\n",
       "      <td>40.756458</td>\n",
       "      <td>-73.993722</td>\n",
       "      <td>Subscriber</td>\n",
       "      <td>2016-06-10</td>\n",
       "      <td>40.87960</td>\n",
       "      <td>-74.22700</td>\n",
       "      <td>0.0</td>\n",
       "      <td>0.00</td>\n",
       "    </tr>\n",
       "    <tr>\n",
       "      <th>105528</th>\n",
       "      <td>965</td>\n",
       "      <td>40.755103</td>\n",
       "      <td>-73.974987</td>\n",
       "      <td>Subscriber</td>\n",
       "      <td>2016-06-09</td>\n",
       "      <td>40.77889</td>\n",
       "      <td>-73.96917</td>\n",
       "      <td>0.0</td>\n",
       "      <td>0.00</td>\n",
       "    </tr>\n",
       "    <tr>\n",
       "      <th>41124</th>\n",
       "      <td>495</td>\n",
       "      <td>40.743943</td>\n",
       "      <td>-73.979661</td>\n",
       "      <td>Subscriber</td>\n",
       "      <td>2016-02-19</td>\n",
       "      <td>40.90270</td>\n",
       "      <td>-74.08340</td>\n",
       "      <td>0.0</td>\n",
       "      <td>0.00</td>\n",
       "    </tr>\n",
       "    <tr>\n",
       "      <th>51118</th>\n",
       "      <td>403</td>\n",
       "      <td>40.723684</td>\n",
       "      <td>-73.975748</td>\n",
       "      <td>Subscriber</td>\n",
       "      <td>2016-03-20</td>\n",
       "      <td>40.77290</td>\n",
       "      <td>-74.14090</td>\n",
       "      <td>0.0</td>\n",
       "      <td>0.00</td>\n",
       "    </tr>\n",
       "    <tr>\n",
       "      <th>100728</th>\n",
       "      <td>1610</td>\n",
       "      <td>40.747348</td>\n",
       "      <td>-73.997236</td>\n",
       "      <td>Customer</td>\n",
       "      <td>2016-06-02</td>\n",
       "      <td>40.43130</td>\n",
       "      <td>-74.12130</td>\n",
       "      <td>0.0</td>\n",
       "      <td>0.00</td>\n",
       "    </tr>\n",
       "    <tr>\n",
       "      <th>110302</th>\n",
       "      <td>188</td>\n",
       "      <td>40.731724</td>\n",
       "      <td>-74.006744</td>\n",
       "      <td>Subscriber</td>\n",
       "      <td>2016-06-18</td>\n",
       "      <td>40.72300</td>\n",
       "      <td>-73.71100</td>\n",
       "      <td>0.0</td>\n",
       "      <td>0.00</td>\n",
       "    </tr>\n",
       "    <tr>\n",
       "      <th>93762</th>\n",
       "      <td>1297</td>\n",
       "      <td>40.773407</td>\n",
       "      <td>-73.977825</td>\n",
       "      <td>Customer</td>\n",
       "      <td>2016-05-16</td>\n",
       "      <td>40.63861</td>\n",
       "      <td>-73.76222</td>\n",
       "      <td>0.0</td>\n",
       "      <td>0.00</td>\n",
       "    </tr>\n",
       "    <tr>\n",
       "      <th>7802</th>\n",
       "      <td>2446</td>\n",
       "      <td>40.742354</td>\n",
       "      <td>-73.989151</td>\n",
       "      <td>Subscriber</td>\n",
       "      <td>2016-01-03</td>\n",
       "      <td>40.74800</td>\n",
       "      <td>-74.15180</td>\n",
       "      <td>0.0</td>\n",
       "      <td>0.00</td>\n",
       "    </tr>\n",
       "    <tr>\n",
       "      <th>111908</th>\n",
       "      <td>397</td>\n",
       "      <td>40.779668</td>\n",
       "      <td>-73.980930</td>\n",
       "      <td>Subscriber</td>\n",
       "      <td>2016-06-07</td>\n",
       "      <td>40.87960</td>\n",
       "      <td>-74.22700</td>\n",
       "      <td>0.0</td>\n",
       "      <td>0.01</td>\n",
       "    </tr>\n",
       "    <tr>\n",
       "      <th>47144</th>\n",
       "      <td>858</td>\n",
       "      <td>40.739323</td>\n",
       "      <td>-74.008119</td>\n",
       "      <td>Subscriber</td>\n",
       "      <td>2016-03-22</td>\n",
       "      <td>40.30340</td>\n",
       "      <td>-74.04000</td>\n",
       "      <td>0.0</td>\n",
       "      <td>0.00</td>\n",
       "    </tr>\n",
       "    <tr>\n",
       "      <th>63825</th>\n",
       "      <td>4853</td>\n",
       "      <td>40.771639</td>\n",
       "      <td>-73.982614</td>\n",
       "      <td>Customer</td>\n",
       "      <td>2016-04-20</td>\n",
       "      <td>40.75560</td>\n",
       "      <td>-74.40980</td>\n",
       "      <td>0.0</td>\n",
       "      <td>0.00</td>\n",
       "    </tr>\n",
       "    <tr>\n",
       "      <th>5735</th>\n",
       "      <td>725</td>\n",
       "      <td>40.775794</td>\n",
       "      <td>-73.976206</td>\n",
       "      <td>Subscriber</td>\n",
       "      <td>2016-01-04</td>\n",
       "      <td>40.60230</td>\n",
       "      <td>-74.31020</td>\n",
       "      <td>0.0</td>\n",
       "      <td>0.00</td>\n",
       "    </tr>\n",
       "    <tr>\n",
       "      <th>83005</th>\n",
       "      <td>934</td>\n",
       "      <td>40.729538</td>\n",
       "      <td>-73.984267</td>\n",
       "      <td>Subscriber</td>\n",
       "      <td>2016-05-09</td>\n",
       "      <td>41.08250</td>\n",
       "      <td>-73.63860</td>\n",
       "      <td>0.0</td>\n",
       "      <td>0.00</td>\n",
       "    </tr>\n",
       "    <tr>\n",
       "      <th>82793</th>\n",
       "      <td>467</td>\n",
       "      <td>40.739017</td>\n",
       "      <td>-74.002638</td>\n",
       "      <td>Subscriber</td>\n",
       "      <td>2016-05-13</td>\n",
       "      <td>40.77889</td>\n",
       "      <td>-73.96917</td>\n",
       "      <td>0.0</td>\n",
       "      <td>0.25</td>\n",
       "    </tr>\n",
       "    <tr>\n",
       "      <th>58720</th>\n",
       "      <td>1179</td>\n",
       "      <td>40.715338</td>\n",
       "      <td>-74.016584</td>\n",
       "      <td>Subscriber</td>\n",
       "      <td>2016-03-02</td>\n",
       "      <td>41.04440</td>\n",
       "      <td>-74.29330</td>\n",
       "      <td>0.0</td>\n",
       "      <td>0.19</td>\n",
       "    </tr>\n",
       "    <tr>\n",
       "      <th>51053</th>\n",
       "      <td>664</td>\n",
       "      <td>40.756800</td>\n",
       "      <td>-73.982912</td>\n",
       "      <td>Subscriber</td>\n",
       "      <td>2016-03-08</td>\n",
       "      <td>40.89170</td>\n",
       "      <td>-74.39620</td>\n",
       "      <td>0.0</td>\n",
       "      <td>0.00</td>\n",
       "    </tr>\n",
       "    <tr>\n",
       "      <th>93321</th>\n",
       "      <td>589</td>\n",
       "      <td>40.716021</td>\n",
       "      <td>-73.999744</td>\n",
       "      <td>Subscriber</td>\n",
       "      <td>2016-05-11</td>\n",
       "      <td>40.87960</td>\n",
       "      <td>-74.22700</td>\n",
       "      <td>0.0</td>\n",
       "      <td>0.00</td>\n",
       "    </tr>\n",
       "    <tr>\n",
       "      <th>86516</th>\n",
       "      <td>368</td>\n",
       "      <td>40.756405</td>\n",
       "      <td>-73.990026</td>\n",
       "      <td>Subscriber</td>\n",
       "      <td>2016-05-23</td>\n",
       "      <td>41.08350</td>\n",
       "      <td>-73.99300</td>\n",
       "      <td>0.0</td>\n",
       "      <td>0.00</td>\n",
       "    </tr>\n",
       "    <tr>\n",
       "      <th>86110</th>\n",
       "      <td>1575</td>\n",
       "      <td>40.691652</td>\n",
       "      <td>-73.999979</td>\n",
       "      <td>Subscriber</td>\n",
       "      <td>2016-05-11</td>\n",
       "      <td>40.95110</td>\n",
       "      <td>-74.11830</td>\n",
       "      <td>0.0</td>\n",
       "      <td>0.00</td>\n",
       "    </tr>\n",
       "    <tr>\n",
       "      <th>56735</th>\n",
       "      <td>613</td>\n",
       "      <td>40.750200</td>\n",
       "      <td>-73.990931</td>\n",
       "      <td>Subscriber</td>\n",
       "      <td>2016-03-17</td>\n",
       "      <td>40.87960</td>\n",
       "      <td>-74.22700</td>\n",
       "      <td>0.0</td>\n",
       "      <td>0.14</td>\n",
       "    </tr>\n",
       "    <tr>\n",
       "      <th>75104</th>\n",
       "      <td>516</td>\n",
       "      <td>40.726218</td>\n",
       "      <td>-73.983799</td>\n",
       "      <td>Subscriber</td>\n",
       "      <td>2016-04-21</td>\n",
       "      <td>41.03280</td>\n",
       "      <td>-74.24500</td>\n",
       "      <td>0.0</td>\n",
       "      <td>0.00</td>\n",
       "    </tr>\n",
       "    <tr>\n",
       "      <th>17553</th>\n",
       "      <td>486</td>\n",
       "      <td>40.719105</td>\n",
       "      <td>-73.999733</td>\n",
       "      <td>Subscriber</td>\n",
       "      <td>2016-01-22</td>\n",
       "      <td>40.77944</td>\n",
       "      <td>-73.88028</td>\n",
       "      <td>0.0</td>\n",
       "      <td>0.00</td>\n",
       "    </tr>\n",
       "  </tbody>\n",
       "</table>\n",
       "</div>"
      ],
      "text/plain": [
       "        trip_duration  start_station_latitude_x  start_station_longitude_x  \\\n",
       "102624            656                 40.751581                 -73.977910   \n",
       "27217            3043                 40.712733                 -74.004607   \n",
       "40893             976                 40.714740                 -74.009106   \n",
       "26133             639                 40.739445                 -73.976806   \n",
       "46085             900                 40.688226                 -73.979382   \n",
       "36767             627                 40.732219                 -73.981656   \n",
       "58531             615                 40.757246                 -73.978059   \n",
       "77563             473                 40.732219                 -73.981656   \n",
       "96832             570                 40.756458                 -73.993722   \n",
       "105528            965                 40.755103                 -73.974987   \n",
       "41124             495                 40.743943                 -73.979661   \n",
       "51118             403                 40.723684                 -73.975748   \n",
       "100728           1610                 40.747348                 -73.997236   \n",
       "110302            188                 40.731724                 -74.006744   \n",
       "93762            1297                 40.773407                 -73.977825   \n",
       "7802             2446                 40.742354                 -73.989151   \n",
       "111908            397                 40.779668                 -73.980930   \n",
       "47144             858                 40.739323                 -74.008119   \n",
       "63825            4853                 40.771639                 -73.982614   \n",
       "5735              725                 40.775794                 -73.976206   \n",
       "83005             934                 40.729538                 -73.984267   \n",
       "82793             467                 40.739017                 -74.002638   \n",
       "58720            1179                 40.715338                 -74.016584   \n",
       "51053             664                 40.756800                 -73.982912   \n",
       "93321             589                 40.716021                 -73.999744   \n",
       "86516             368                 40.756405                 -73.990026   \n",
       "86110            1575                 40.691652                 -73.999979   \n",
       "56735             613                 40.750200                 -73.990931   \n",
       "75104             516                 40.726218                 -73.983799   \n",
       "17553             486                 40.719105                 -73.999733   \n",
       "\n",
       "         user_type       DATE  start_station_latitude_y  \\\n",
       "102624  Subscriber 2016-06-14                  40.69450   \n",
       "27217     Customer 2016-02-29                  40.74800   \n",
       "40893   Subscriber 2016-02-11                  40.74810   \n",
       "26133   Subscriber 2016-02-09                  40.84810   \n",
       "46085   Subscriber 2016-03-05                  40.79150   \n",
       "36767   Subscriber 2016-02-21                  40.72790   \n",
       "58531   Subscriber 2016-03-20                  40.95190   \n",
       "77563   Subscriber 2016-04-16                  40.90960   \n",
       "96832   Subscriber 2016-06-10                  40.87960   \n",
       "105528  Subscriber 2016-06-09                  40.77889   \n",
       "41124   Subscriber 2016-02-19                  40.90270   \n",
       "51118   Subscriber 2016-03-20                  40.77290   \n",
       "100728    Customer 2016-06-02                  40.43130   \n",
       "110302  Subscriber 2016-06-18                  40.72300   \n",
       "93762     Customer 2016-05-16                  40.63861   \n",
       "7802    Subscriber 2016-01-03                  40.74800   \n",
       "111908  Subscriber 2016-06-07                  40.87960   \n",
       "47144   Subscriber 2016-03-22                  40.30340   \n",
       "63825     Customer 2016-04-20                  40.75560   \n",
       "5735    Subscriber 2016-01-04                  40.60230   \n",
       "83005   Subscriber 2016-05-09                  41.08250   \n",
       "82793   Subscriber 2016-05-13                  40.77889   \n",
       "58720   Subscriber 2016-03-02                  41.04440   \n",
       "51053   Subscriber 2016-03-08                  40.89170   \n",
       "93321   Subscriber 2016-05-11                  40.87960   \n",
       "86516   Subscriber 2016-05-23                  41.08350   \n",
       "86110   Subscriber 2016-05-11                  40.95110   \n",
       "56735   Subscriber 2016-03-17                  40.87960   \n",
       "75104   Subscriber 2016-04-21                  41.03280   \n",
       "17553   Subscriber 2016-01-22                  40.77944   \n",
       "\n",
       "        start_station_longitude_y  SNOW  PRCP  \n",
       "102624                  -74.38980   0.0  0.00  \n",
       "27217                   -74.15180   0.0  0.00  \n",
       "40893                   -74.15200   0.0  0.00  \n",
       "26133                   -74.00020   0.0  0.00  \n",
       "46085                   -74.13980   0.0  0.00  \n",
       "36767                   -73.43410   0.0  0.00  \n",
       "58531                   -74.15770   0.0  0.00  \n",
       "77563                   -74.41410   0.0  0.00  \n",
       "96832                   -74.22700   0.0  0.00  \n",
       "105528                  -73.96917   0.0  0.00  \n",
       "41124                   -74.08340   0.0  0.00  \n",
       "51118                   -74.14090   0.0  0.00  \n",
       "100728                  -74.12130   0.0  0.00  \n",
       "110302                  -73.71100   0.0  0.00  \n",
       "93762                   -73.76222   0.0  0.00  \n",
       "7802                    -74.15180   0.0  0.00  \n",
       "111908                  -74.22700   0.0  0.01  \n",
       "47144                   -74.04000   0.0  0.00  \n",
       "63825                   -74.40980   0.0  0.00  \n",
       "5735                    -74.31020   0.0  0.00  \n",
       "83005                   -73.63860   0.0  0.00  \n",
       "82793                   -73.96917   0.0  0.25  \n",
       "58720                   -74.29330   0.0  0.19  \n",
       "51053                   -74.39620   0.0  0.00  \n",
       "93321                   -74.22700   0.0  0.00  \n",
       "86516                   -73.99300   0.0  0.00  \n",
       "86110                   -74.11830   0.0  0.00  \n",
       "56735                   -74.22700   0.0  0.14  \n",
       "75104                   -74.24500   0.0  0.00  \n",
       "17553                   -73.88028   0.0  0.00  "
      ]
     },
     "execution_count": 40,
     "metadata": {},
     "output_type": "execute_result"
    }
   ],
   "source": [
    "#now these two datasets are merged based on the date, logitude, and latiude\n",
    "merged_df = pd.merge(filtered_bikeshare, filtered_weather_df, how='inner', on='DATE')\n",
    "merged_df.sample(n=30)"
   ]
  },
  {
   "cell_type": "markdown",
   "metadata": {
    "id": "F42urHuzttjF"
   },
   "source": [
    "## 4. Update your data store\n",
    "Update your local database/data store with the cleaned data, following best practices for storing your cleaned data:\n",
    "\n",
    "- Must maintain different instances / versions of data (raw and cleaned data)\n",
    "- Must name the dataset files informatively\n",
    "- Ensure both the raw and cleaned data is saved to your database/data store"
   ]
  },
  {
   "cell_type": "code",
   "execution_count": null,
   "metadata": {
    "id": "V3uay7EJUV_L"
   },
   "outputs": [],
   "source": [
    "original_weather_df\n",
    "bikeshare_df"
   ]
  },
  {
   "cell_type": "code",
   "execution_count": 41,
   "metadata": {},
   "outputs": [],
   "source": [
    "merged_df.to_csv('merged_data.csv', index=False)"
   ]
  },
  {
   "cell_type": "markdown",
   "metadata": {
    "id": "cGy_yddGtzhM"
   },
   "source": [
    "## 5. Answer the research question\n",
    "\n",
    "### **5.1:** Define and answer the research question \n",
    "Going back to the problem statement in step 1, use the cleaned data to answer the question you raised. Produce **at least** two visualizations using the cleaned data and explain how they help you answer the question."
   ]
  },
  {
   "cell_type": "markdown",
   "metadata": {
    "id": "gjedE4s4ZkEd"
   },
   "source": [
    "*Research question 1:* How does weather, particularly snowfall, affect bike rental duration accross different user types subscribers and customers? and how is snowfall distributed among the start latitude and longitude of the different locations? in New York City during the first half of 2016?"
   ]
  },
  {
   "cell_type": "markdown",
   "metadata": {},
   "source": [
    "First we can analyze the distribution of user types accross the six months from January to June using the pie chart.\n",
    "It can be seen that the Subscribers numbers surpass the customers, but the best month distribution can be seen to be April, with 84.7% subscribers and 15.3% customers. and the least month with most biased is January with 95.4% sunscribers and 4.6% customers only. "
   ]
  },
  {
   "cell_type": "code",
   "execution_count": 42,
   "metadata": {
    "scrolled": false
   },
   "outputs": [
    {
     "data": {
      "image/png": "[encoded data removed]",
      "text/plain": [
       "<Figure size 1500x1000 with 6 Axes>"
      ]
     },
     "metadata": {},
     "output_type": "display_data"
    }
   ],
   "source": [
    "merged_df['month'] = merged_df['DATE'].dt.month # extract the month from the date\n",
    "\n",
    "#Group by month and user_type to get counts\n",
    "user_type_distribution = merged_df.groupby(['month', 'user_type']).size().unstack()\n",
    "\n",
    "#pie charts for each month\n",
    "months = user_type_distribution.index\n",
    "fig, axs = plt.subplots(2, 3, figsize=(15, 10))\n",
    "\n",
    "for i, month in enumerate(months):\n",
    "    ax = axs[i // 3, i % 3]\n",
    "    data = user_type_distribution.loc[month]\n",
    "    ax.pie(data, labels=data.index, autopct='%1.1f%%', startangle=90)\n",
    "    ax.set_title(f'Month: {month}')\n",
    "\n",
    "plt.suptitle('Distribution of User Type Over Each Month')\n",
    "plt.show()"
   ]
  },
  {
   "cell_type": "markdown",
   "metadata": {},
   "source": [
    "Here is the visualization of the relations between the trip duration average, user types, and snowfall values. \n",
    "This visualization below indicates that customers average duration peak is when there is no snow fall i.e. snow condition = 0, and the subscribers average duration peak is when there is snowfall equals 4."
   ]
  },
  {
   "cell_type": "code",
   "execution_count": 43,
   "metadata": {},
   "outputs": [
    {
     "data": {
      "image/png": "[encoded data removed]",
      "text/plain": [
       "<Figure size 1000x600 with 1 Axes>"
      ]
     },
     "metadata": {},
     "output_type": "display_data"
    }
   ],
   "source": [
    "#Groupe Bar Chart of trip duration by user type and snow condition\n",
    "avg_trip_duration_by_type_snow = merged_df.groupby(['user_type', 'SNOW'])['trip_duration'].mean().unstack()\n",
    "\n",
    "avg_trip_duration_by_type_snow.plot(kind='bar', figsize=(10, 6), color=['blue', 'orange'])\n",
    "plt.xlabel('User Type')\n",
    "plt.ylabel('Average Trip Duration')\n",
    "plt.title('Average Trip Duration by User Type and Snow Condition')\n",
    "plt.xticks(rotation=0)\n",
    "plt.show()"
   ]
  },
  {
   "cell_type": "markdown",
   "metadata": {},
   "source": [
    "Here the start station latitude is studied with the amount of snowfall, it can be seen that most conditions are with 0-1 snowfall values.\n",
    "For the start station logitude it can be seen that most conditions are with 0-2 snowfall values."
   ]
  },
  {
   "cell_type": "code",
   "execution_count": 44,
   "metadata": {},
   "outputs": [
    {
     "data": {
      "image/png": "[encoded data removed]",
      "text/plain": [
       "<Figure size 1000x600 with 1 Axes>"
      ]
     },
     "metadata": {},
     "output_type": "display_data"
    }
   ],
   "source": [
    "plt.figure(figsize=(10, 6))\n",
    "plt.scatter(merged_df['start_station_latitude_y'], merged_df['SNOW'], alpha=0.5, c='blue')\n",
    "plt.xlabel('Start Station Latitude')\n",
    "plt.ylabel('Snow Condition')\n",
    "plt.title('Number of Trips by Start Station Latitude and Snow Condition')\n",
    "plt.grid(True)\n",
    "plt.show()"
   ]
  },
  {
   "cell_type": "code",
   "execution_count": 45,
   "metadata": {},
   "outputs": [
    {
     "data": {
      "image/png": "[encoded data removed]",
      "text/plain": [
       "<Figure size 1000x600 with 1 Axes>"
      ]
     },
     "metadata": {},
     "output_type": "display_data"
    }
   ],
   "source": [
    "plt.figure(figsize=(10, 6))\n",
    "plt.scatter(merged_df['start_station_longitude_y'], merged_df['SNOW'], alpha=0.5, c='blue')\n",
    "plt.xlabel('Stop Station Latitude')\n",
    "plt.ylabel('Snow Condition')\n",
    "plt.title('Number of Trips by Start Station Longitude and Snow Condition')\n",
    "plt.grid(True)\n",
    "plt.show()"
   ]
  },
  {
   "cell_type": "markdown",
   "metadata": {},
   "source": [
    "*Research question 2:* How are the number of bike rides distributed per month? and what is the maximum ride trip duration is each month?"
   ]
  },
  {
   "cell_type": "markdown",
   "metadata": {},
   "source": [
    "The distribution below shows that the maximum rides counts are in January, followed by February, followed by April, June, March, and May."
   ]
  },
  {
   "cell_type": "code",
   "execution_count": 46,
   "metadata": {
    "id": "6fdK_8ZGZm9R"
   },
   "outputs": [
    {
     "data": {
      "image/png": "[encoded data removed]",
      "text/plain": [
       "<Figure size 1000x600 with 1 Axes>"
      ]
     },
     "metadata": {},
     "output_type": "display_data"
    }
   ],
   "source": [
    "merged_df['month'] = merged_df['DATE'].dt.month\n",
    "#this figure shows a bar chart of the rides oer months from January to June\n",
    "plt.figure(figsize=(10, 6))\n",
    "merged_df['month'].value_counts().sort_index().plot(kind='bar')\n",
    "plt.title('Number of Bike Rides per Month')\n",
    "plt.xlabel('Month')\n",
    "plt.ylabel('Number of Rides')\n",
    "plt.xticks(rotation=0)\n",
    "plt.show()"
   ]
  },
  {
   "cell_type": "markdown",
   "metadata": {},
   "source": [
    "The visualization below answers the second part of the second research question. This bar chart indicates that the most trip duration found in April."
   ]
  },
  {
   "cell_type": "code",
   "execution_count": 47,
   "metadata": {
    "scrolled": true
   },
   "outputs": [
    {
     "data": {
      "image/png": "[encoded data removed]",
      "text/plain": [
       "<Figure size 1000x600 with 1 Axes>"
      ]
     },
     "metadata": {},
     "output_type": "display_data"
    },
    {
     "data": {
      "image/png": "[encoded data removed]",
      "text/plain": [
       "<Figure size 1000x600 with 1 Axes>"
      ]
     },
     "metadata": {},
     "output_type": "display_data"
    }
   ],
   "source": [
    "#plotting the bar chart of month and trip duration\n",
    "merged_df['month'] = merged_df['DATE'].dt.month\n",
    "plt.figure(figsize=(10, 6))\n",
    "merged_df.groupby('month')['trip_duration'].sum().plot(kind='bar')\n",
    "plt.title('Total Trip Duration per Month')\n",
    "plt.xlabel('Month')\n",
    "plt.ylabel('Total Trip Duration (seconds)')\n",
    "plt.xticks(rotation=0)\n",
    "plt.show()\n",
    "\n",
    "#plotting the line of month and trip duration\n",
    "plt.figure(figsize=(10, 6))\n",
    "merged_df.groupby('month')['trip_duration'].mean().plot(kind='line', marker='o')\n",
    "plt.title('Average Trip Duration per Month')\n",
    "plt.xlabel('Month')\n",
    "plt.ylabel('Average Trip Duration (seconds)')\n",
    "plt.xticks(np.arange(1, 7, step=1))\n",
    "plt.grid(True)\n",
    "plt.show()\n"
   ]
  },
  {
   "cell_type": "markdown",
   "metadata": {},
   "source": [
    "Additional Research question: How does precipitation affect bike ride duration in New York City during the first half of 2016?"
   ]
  },
  {
   "cell_type": "code",
   "execution_count": 48,
   "metadata": {},
   "outputs": [
    {
     "data": {
      "image/png": "[encoded data removed]",
      "text/plain": [
       "<Figure size 1000x600 with 1 Axes>"
      ]
     },
     "metadata": {},
     "output_type": "display_data"
    }
   ],
   "source": [
    "avg_trip_duration = merged_df.groupby('PRCP')['trip_duration'].mean()\n",
    "\n",
    "# Plotting the line plot\n",
    "plt.figure(figsize=(10, 6))\n",
    "plt.plot(avg_trip_duration.index, avg_trip_duration.values, marker='o', color='blue', linestyle='-', linewidth=2)\n",
    "plt.title('Average Trip Duration vs. Precipitation')\n",
    "plt.xlabel('Precipitation (PRCP)')\n",
    "plt.ylabel('Average Trip Duration')\n",
    "plt.grid(True)\n",
    "plt.show()\n"
   ]
  },
  {
   "cell_type": "code",
   "execution_count": 49,
   "metadata": {},
   "outputs": [
    {
     "data": {
      "image/png": "[encoded data removed]",
      "text/plain": [
       "<Figure size 1500x1000 with 6 Axes>"
      ]
     },
     "metadata": {},
     "output_type": "display_data"
    }
   ],
   "source": [
    "merged_df['month'] = merged_df['DATE'].dt.month\n",
    "avg_trip_duration_monthly = merged_df.groupby(['month', 'PRCP'])['trip_duration'].mean().unstack()\n",
    "\n",
    "fig, axs = plt.subplots(2, 3, figsize=(15, 10), sharex=True, sharey=True)\n",
    "\n",
    "months = range(1, 7) \n",
    "axs = axs.flatten()\n",
    "for i, month in enumerate(months):\n",
    "    ax = axs[i]\n",
    "    ax.plot(avg_trip_duration_monthly.columns, avg_trip_duration_monthly.loc[month], marker='o', linestyle='-', linewidth=2, label=f'Month {month}', color='blue')\n",
    "    ax.set_title(f'Month {month}')\n",
    "    ax.set_xlabel('Precipitation (PRCP)')\n",
    "    ax.set_ylabel('Average Trip Duration')\n",
    "    ax.grid(True)\n",
    "    ax.legend()\n",
    "plt.suptitle('Average Trip Duration vs. Precipitation by Month', y=1.05, fontsize=16)\n",
    "plt.tight_layout()\n",
    "plt.show()"
   ]
  },
  {
   "cell_type": "markdown",
   "metadata": {
    "id": "K5RgvMGUZoHn"
   },
   "source": [
    "*Answer to research question:* It can be seen that the average trip durations can be seen to have a peak at around 0.01 percipitation percentage followed by 0.25. Also I specified for each month, April is the one with most count of trip durations, but approximately all of them are centered around 0-1.0 percipitation in each month. "
   ]
  },
  {
   "cell_type": "markdown",
   "metadata": {
    "id": "0ezWXXZVj-TP"
   },
   "source": [
    "### **5.2:** Reflection\n",
    "In 2-4 sentences, if you had more time to complete the project, what actions would you take? For example, which data quality and structural issues would you look into further, and what research questions would you further explore?\n",
    "\n",
    "If I had more time, I would be studying each dataset on its own more, analyzing the weather dataset and attributes and frequecy and correlations among each other, same for the bikeshare data. Then based on that certain study, I would choose the correct columns to marge and analyze the relation between the weather and bikeshare rental process. \n",
    "Then for the merged dataset I would make sure to include all the logical relations. \n",
    "I would search for more unrealistic data values in each column because maybe there are no nan values but hidden in different values. I would focus more on the outliers and make sure to protect the data from them and study their affect on the analysis. \n",
    "\n",
    "I have other research questions:\n",
    "1- Is there a noticeable change in average trip duration as snow fall vary? Does this impact differ significantly between customers and subscribers?\n",
    "2- Does high percipitations percentage discourage certain user types from using bike-sharing services more than others? (compare the subscribers and customers)\n",
    "3- How do bike usage patterns change across seasons spring, summer, fall, winter in response to varying weather conditions? (but here I need to expand the dataset to include more months or compare winter with spring only)\n"
   ]
  }
 ],
 "metadata": {
  "colab": {
   "provenance": []
  },
  "kernelspec": {
   "display_name": "Python 3 (ipykernel)",
   "language": "python",
   "name": "python3"
  },
  "language_info": {
   "codemirror_mode": {
    "name": "ipython",
    "version": 3
   },
   "file_extension": ".py",
   "mimetype": "text/x-python",
   "name": "python",
   "nbconvert_exporter": "python",
   "pygments_lexer": "ipython3",
   "version": "3.10.11"
  }
 },
 "nbformat": 4,
 "nbformat_minor": 1
}
